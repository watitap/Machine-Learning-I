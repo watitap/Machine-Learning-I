{
 "cells": [
  {
   "cell_type": "markdown",
   "metadata": {},
   "source": [
    "### Dataset Information"
   ]
  },
  {
   "cell_type": "markdown",
   "metadata": {},
   "source": [
    "The variability of consumer engagement is analysed through a Principal Component Analysis, highlighting the changes induced by the use of Facebook Live. The seasonal component is analysed through a study of the averages of the different engagement metrics for different time-frames (hourly, daily and monthly). Finally, we identify statistical outlier posts, that are qualitatively analyzed further, in terms of their selling approach and activities.\n",
    "\n",
    "\n",
    "Reference: https://archive.ics.uci.edu/ml/datasets/Facebook+Live+Sellers+in+Thailand"
   ]
  },
  {
   "cell_type": "markdown",
   "metadata": {},
   "source": [
    "### Import functions"
   ]
  },
  {
   "cell_type": "code",
   "execution_count": 206,
   "metadata": {},
   "outputs": [],
   "source": [
    "%matplotlib inline\n",
    "\n",
    "import pandas as pd\n",
    "import numpy as np\n",
    "import seaborn as sns\n",
    "import matplotlib.pyplot as plt\n",
    "from pandas.plotting import scatter_matrix"
   ]
  },
  {
   "cell_type": "markdown",
   "metadata": {},
   "source": [
    "### Load data"
   ]
  },
  {
   "cell_type": "code",
   "execution_count": 170,
   "metadata": {},
   "outputs": [
    {
     "data": {
      "text/html": [
       "<div>\n",
       "<style scoped>\n",
       "    .dataframe tbody tr th:only-of-type {\n",
       "        vertical-align: middle;\n",
       "    }\n",
       "\n",
       "    .dataframe tbody tr th {\n",
       "        vertical-align: top;\n",
       "    }\n",
       "\n",
       "    .dataframe thead th {\n",
       "        text-align: right;\n",
       "    }\n",
       "</style>\n",
       "<table border=\"1\" class=\"dataframe\">\n",
       "  <thead>\n",
       "    <tr style=\"text-align: right;\">\n",
       "      <th></th>\n",
       "      <th>status_id</th>\n",
       "      <th>status_type</th>\n",
       "      <th>status_published</th>\n",
       "      <th>num_reactions</th>\n",
       "      <th>num_comments</th>\n",
       "      <th>num_shares</th>\n",
       "      <th>num_likes</th>\n",
       "      <th>num_loves</th>\n",
       "      <th>num_wows</th>\n",
       "      <th>num_hahas</th>\n",
       "      <th>num_sads</th>\n",
       "      <th>num_angrys</th>\n",
       "      <th>Column1</th>\n",
       "      <th>Column2</th>\n",
       "      <th>Column3</th>\n",
       "      <th>Column4</th>\n",
       "    </tr>\n",
       "  </thead>\n",
       "  <tbody>\n",
       "    <tr>\n",
       "      <th>0</th>\n",
       "      <td>1</td>\n",
       "      <td>video</td>\n",
       "      <td>4/22/2018 6:00</td>\n",
       "      <td>529</td>\n",
       "      <td>512</td>\n",
       "      <td>262</td>\n",
       "      <td>432</td>\n",
       "      <td>92</td>\n",
       "      <td>3</td>\n",
       "      <td>1</td>\n",
       "      <td>1</td>\n",
       "      <td>0</td>\n",
       "      <td>nan</td>\n",
       "      <td>nan</td>\n",
       "      <td>nan</td>\n",
       "      <td>nan</td>\n",
       "    </tr>\n",
       "    <tr>\n",
       "      <th>1</th>\n",
       "      <td>2</td>\n",
       "      <td>photo</td>\n",
       "      <td>4/21/2018 22:45</td>\n",
       "      <td>150</td>\n",
       "      <td>0</td>\n",
       "      <td>0</td>\n",
       "      <td>150</td>\n",
       "      <td>0</td>\n",
       "      <td>0</td>\n",
       "      <td>0</td>\n",
       "      <td>0</td>\n",
       "      <td>0</td>\n",
       "      <td>nan</td>\n",
       "      <td>nan</td>\n",
       "      <td>nan</td>\n",
       "      <td>nan</td>\n",
       "    </tr>\n",
       "    <tr>\n",
       "      <th>2</th>\n",
       "      <td>3</td>\n",
       "      <td>video</td>\n",
       "      <td>4/21/2018 6:17</td>\n",
       "      <td>227</td>\n",
       "      <td>236</td>\n",
       "      <td>57</td>\n",
       "      <td>204</td>\n",
       "      <td>21</td>\n",
       "      <td>1</td>\n",
       "      <td>1</td>\n",
       "      <td>0</td>\n",
       "      <td>0</td>\n",
       "      <td>nan</td>\n",
       "      <td>nan</td>\n",
       "      <td>nan</td>\n",
       "      <td>nan</td>\n",
       "    </tr>\n",
       "    <tr>\n",
       "      <th>3</th>\n",
       "      <td>4</td>\n",
       "      <td>photo</td>\n",
       "      <td>4/21/2018 2:29</td>\n",
       "      <td>111</td>\n",
       "      <td>0</td>\n",
       "      <td>0</td>\n",
       "      <td>111</td>\n",
       "      <td>0</td>\n",
       "      <td>0</td>\n",
       "      <td>0</td>\n",
       "      <td>0</td>\n",
       "      <td>0</td>\n",
       "      <td>nan</td>\n",
       "      <td>nan</td>\n",
       "      <td>nan</td>\n",
       "      <td>nan</td>\n",
       "    </tr>\n",
       "    <tr>\n",
       "      <th>4</th>\n",
       "      <td>5</td>\n",
       "      <td>photo</td>\n",
       "      <td>4/18/2018 3:22</td>\n",
       "      <td>213</td>\n",
       "      <td>0</td>\n",
       "      <td>0</td>\n",
       "      <td>204</td>\n",
       "      <td>9</td>\n",
       "      <td>0</td>\n",
       "      <td>0</td>\n",
       "      <td>0</td>\n",
       "      <td>0</td>\n",
       "      <td>nan</td>\n",
       "      <td>nan</td>\n",
       "      <td>nan</td>\n",
       "      <td>nan</td>\n",
       "    </tr>\n",
       "    <tr>\n",
       "      <th>5</th>\n",
       "      <td>6</td>\n",
       "      <td>photo</td>\n",
       "      <td>4/18/2018 2:14</td>\n",
       "      <td>217</td>\n",
       "      <td>6</td>\n",
       "      <td>0</td>\n",
       "      <td>211</td>\n",
       "      <td>5</td>\n",
       "      <td>1</td>\n",
       "      <td>0</td>\n",
       "      <td>0</td>\n",
       "      <td>0</td>\n",
       "      <td>nan</td>\n",
       "      <td>nan</td>\n",
       "      <td>nan</td>\n",
       "      <td>nan</td>\n",
       "    </tr>\n",
       "    <tr>\n",
       "      <th>6</th>\n",
       "      <td>7</td>\n",
       "      <td>video</td>\n",
       "      <td>4/18/2018 0:24</td>\n",
       "      <td>503</td>\n",
       "      <td>614</td>\n",
       "      <td>72</td>\n",
       "      <td>418</td>\n",
       "      <td>70</td>\n",
       "      <td>10</td>\n",
       "      <td>2</td>\n",
       "      <td>0</td>\n",
       "      <td>3</td>\n",
       "      <td>nan</td>\n",
       "      <td>nan</td>\n",
       "      <td>nan</td>\n",
       "      <td>nan</td>\n",
       "    </tr>\n",
       "    <tr>\n",
       "      <th>7</th>\n",
       "      <td>8</td>\n",
       "      <td>video</td>\n",
       "      <td>4/17/2018 7:42</td>\n",
       "      <td>295</td>\n",
       "      <td>453</td>\n",
       "      <td>53</td>\n",
       "      <td>260</td>\n",
       "      <td>32</td>\n",
       "      <td>1</td>\n",
       "      <td>1</td>\n",
       "      <td>0</td>\n",
       "      <td>1</td>\n",
       "      <td>nan</td>\n",
       "      <td>nan</td>\n",
       "      <td>nan</td>\n",
       "      <td>nan</td>\n",
       "    </tr>\n",
       "    <tr>\n",
       "      <th>8</th>\n",
       "      <td>9</td>\n",
       "      <td>photo</td>\n",
       "      <td>4/17/2018 3:33</td>\n",
       "      <td>203</td>\n",
       "      <td>1</td>\n",
       "      <td>0</td>\n",
       "      <td>198</td>\n",
       "      <td>5</td>\n",
       "      <td>0</td>\n",
       "      <td>0</td>\n",
       "      <td>0</td>\n",
       "      <td>0</td>\n",
       "      <td>nan</td>\n",
       "      <td>nan</td>\n",
       "      <td>nan</td>\n",
       "      <td>nan</td>\n",
       "    </tr>\n",
       "    <tr>\n",
       "      <th>9</th>\n",
       "      <td>10</td>\n",
       "      <td>photo</td>\n",
       "      <td>4/11/2018 4:53</td>\n",
       "      <td>170</td>\n",
       "      <td>9</td>\n",
       "      <td>1</td>\n",
       "      <td>167</td>\n",
       "      <td>3</td>\n",
       "      <td>0</td>\n",
       "      <td>0</td>\n",
       "      <td>0</td>\n",
       "      <td>0</td>\n",
       "      <td>nan</td>\n",
       "      <td>nan</td>\n",
       "      <td>nan</td>\n",
       "      <td>nan</td>\n",
       "    </tr>\n",
       "  </tbody>\n",
       "</table>\n",
       "</div>"
      ],
      "text/plain": [
       "   status_id status_type status_published  num_reactions  num_comments  \\\n",
       "0          1       video   4/22/2018 6:00            529           512   \n",
       "1          2       photo  4/21/2018 22:45            150             0   \n",
       "2          3       video   4/21/2018 6:17            227           236   \n",
       "3          4       photo   4/21/2018 2:29            111             0   \n",
       "4          5       photo   4/18/2018 3:22            213             0   \n",
       "5          6       photo   4/18/2018 2:14            217             6   \n",
       "6          7       video   4/18/2018 0:24            503           614   \n",
       "7          8       video   4/17/2018 7:42            295           453   \n",
       "8          9       photo   4/17/2018 3:33            203             1   \n",
       "9         10       photo   4/11/2018 4:53            170             9   \n",
       "\n",
       "   num_shares  num_likes  num_loves  num_wows  num_hahas  num_sads  \\\n",
       "0         262        432         92         3          1         1   \n",
       "1           0        150          0         0          0         0   \n",
       "2          57        204         21         1          1         0   \n",
       "3           0        111          0         0          0         0   \n",
       "4           0        204          9         0          0         0   \n",
       "5           0        211          5         1          0         0   \n",
       "6          72        418         70        10          2         0   \n",
       "7          53        260         32         1          1         0   \n",
       "8           0        198          5         0          0         0   \n",
       "9           1        167          3         0          0         0   \n",
       "\n",
       "   num_angrys  Column1  Column2  Column3  Column4  \n",
       "0           0      nan      nan      nan      nan  \n",
       "1           0      nan      nan      nan      nan  \n",
       "2           0      nan      nan      nan      nan  \n",
       "3           0      nan      nan      nan      nan  \n",
       "4           0      nan      nan      nan      nan  \n",
       "5           0      nan      nan      nan      nan  \n",
       "6           3      nan      nan      nan      nan  \n",
       "7           1      nan      nan      nan      nan  \n",
       "8           0      nan      nan      nan      nan  \n",
       "9           0      nan      nan      nan      nan  "
      ]
     },
     "execution_count": 170,
     "metadata": {},
     "output_type": "execute_result"
    }
   ],
   "source": [
    "#url = 'https://archive.ics.uci.edu/ml/machine-learning-databases/00488/Live_20210128.csv'\n",
    "\n",
    "data = pd.read_csv('Live_20210128.csv')\n",
    "data.head(10)"
   ]
  },
  {
   "cell_type": "markdown",
   "metadata": {},
   "source": [
    "### Summary of the data"
   ]
  },
  {
   "cell_type": "code",
   "execution_count": 171,
   "metadata": {},
   "outputs": [
    {
     "data": {
      "text/html": [
       "<div>\n",
       "<style scoped>\n",
       "    .dataframe tbody tr th:only-of-type {\n",
       "        vertical-align: middle;\n",
       "    }\n",
       "\n",
       "    .dataframe tbody tr th {\n",
       "        vertical-align: top;\n",
       "    }\n",
       "\n",
       "    .dataframe thead th {\n",
       "        text-align: right;\n",
       "    }\n",
       "</style>\n",
       "<table border=\"1\" class=\"dataframe\">\n",
       "  <thead>\n",
       "    <tr style=\"text-align: right;\">\n",
       "      <th></th>\n",
       "      <th>status_id</th>\n",
       "      <th>num_reactions</th>\n",
       "      <th>num_comments</th>\n",
       "      <th>num_shares</th>\n",
       "      <th>num_likes</th>\n",
       "      <th>num_loves</th>\n",
       "      <th>num_wows</th>\n",
       "      <th>num_hahas</th>\n",
       "      <th>num_sads</th>\n",
       "      <th>num_angrys</th>\n",
       "      <th>Column1</th>\n",
       "      <th>Column2</th>\n",
       "      <th>Column3</th>\n",
       "      <th>Column4</th>\n",
       "    </tr>\n",
       "  </thead>\n",
       "  <tbody>\n",
       "    <tr>\n",
       "      <th>count</th>\n",
       "      <td>7050.00</td>\n",
       "      <td>7050.00</td>\n",
       "      <td>7050.00</td>\n",
       "      <td>7050.00</td>\n",
       "      <td>7050.00</td>\n",
       "      <td>7050.00</td>\n",
       "      <td>7050.00</td>\n",
       "      <td>7050.00</td>\n",
       "      <td>7050.00</td>\n",
       "      <td>7050.00</td>\n",
       "      <td>0.00</td>\n",
       "      <td>0.00</td>\n",
       "      <td>0.00</td>\n",
       "      <td>0.00</td>\n",
       "    </tr>\n",
       "    <tr>\n",
       "      <th>mean</th>\n",
       "      <td>3525.50</td>\n",
       "      <td>230.12</td>\n",
       "      <td>224.36</td>\n",
       "      <td>40.02</td>\n",
       "      <td>215.04</td>\n",
       "      <td>12.73</td>\n",
       "      <td>1.29</td>\n",
       "      <td>0.70</td>\n",
       "      <td>0.24</td>\n",
       "      <td>0.11</td>\n",
       "      <td>nan</td>\n",
       "      <td>nan</td>\n",
       "      <td>nan</td>\n",
       "      <td>nan</td>\n",
       "    </tr>\n",
       "    <tr>\n",
       "      <th>std</th>\n",
       "      <td>2035.30</td>\n",
       "      <td>462.63</td>\n",
       "      <td>889.64</td>\n",
       "      <td>131.60</td>\n",
       "      <td>449.47</td>\n",
       "      <td>39.97</td>\n",
       "      <td>8.72</td>\n",
       "      <td>3.96</td>\n",
       "      <td>1.60</td>\n",
       "      <td>0.73</td>\n",
       "      <td>nan</td>\n",
       "      <td>nan</td>\n",
       "      <td>nan</td>\n",
       "      <td>nan</td>\n",
       "    </tr>\n",
       "    <tr>\n",
       "      <th>min</th>\n",
       "      <td>1.00</td>\n",
       "      <td>0.00</td>\n",
       "      <td>0.00</td>\n",
       "      <td>0.00</td>\n",
       "      <td>0.00</td>\n",
       "      <td>0.00</td>\n",
       "      <td>0.00</td>\n",
       "      <td>0.00</td>\n",
       "      <td>0.00</td>\n",
       "      <td>0.00</td>\n",
       "      <td>nan</td>\n",
       "      <td>nan</td>\n",
       "      <td>nan</td>\n",
       "      <td>nan</td>\n",
       "    </tr>\n",
       "    <tr>\n",
       "      <th>25%</th>\n",
       "      <td>1763.25</td>\n",
       "      <td>17.00</td>\n",
       "      <td>0.00</td>\n",
       "      <td>0.00</td>\n",
       "      <td>17.00</td>\n",
       "      <td>0.00</td>\n",
       "      <td>0.00</td>\n",
       "      <td>0.00</td>\n",
       "      <td>0.00</td>\n",
       "      <td>0.00</td>\n",
       "      <td>nan</td>\n",
       "      <td>nan</td>\n",
       "      <td>nan</td>\n",
       "      <td>nan</td>\n",
       "    </tr>\n",
       "    <tr>\n",
       "      <th>50%</th>\n",
       "      <td>3525.50</td>\n",
       "      <td>59.50</td>\n",
       "      <td>4.00</td>\n",
       "      <td>0.00</td>\n",
       "      <td>58.00</td>\n",
       "      <td>0.00</td>\n",
       "      <td>0.00</td>\n",
       "      <td>0.00</td>\n",
       "      <td>0.00</td>\n",
       "      <td>0.00</td>\n",
       "      <td>nan</td>\n",
       "      <td>nan</td>\n",
       "      <td>nan</td>\n",
       "      <td>nan</td>\n",
       "    </tr>\n",
       "    <tr>\n",
       "      <th>75%</th>\n",
       "      <td>5287.75</td>\n",
       "      <td>219.00</td>\n",
       "      <td>23.00</td>\n",
       "      <td>4.00</td>\n",
       "      <td>184.75</td>\n",
       "      <td>3.00</td>\n",
       "      <td>0.00</td>\n",
       "      <td>0.00</td>\n",
       "      <td>0.00</td>\n",
       "      <td>0.00</td>\n",
       "      <td>nan</td>\n",
       "      <td>nan</td>\n",
       "      <td>nan</td>\n",
       "      <td>nan</td>\n",
       "    </tr>\n",
       "    <tr>\n",
       "      <th>max</th>\n",
       "      <td>7050.00</td>\n",
       "      <td>4710.00</td>\n",
       "      <td>20990.00</td>\n",
       "      <td>3424.00</td>\n",
       "      <td>4710.00</td>\n",
       "      <td>657.00</td>\n",
       "      <td>278.00</td>\n",
       "      <td>157.00</td>\n",
       "      <td>51.00</td>\n",
       "      <td>31.00</td>\n",
       "      <td>nan</td>\n",
       "      <td>nan</td>\n",
       "      <td>nan</td>\n",
       "      <td>nan</td>\n",
       "    </tr>\n",
       "  </tbody>\n",
       "</table>\n",
       "</div>"
      ],
      "text/plain": [
       "       status_id  num_reactions  num_comments  num_shares  num_likes  \\\n",
       "count    7050.00        7050.00       7050.00     7050.00    7050.00   \n",
       "mean     3525.50         230.12        224.36       40.02     215.04   \n",
       "std      2035.30         462.63        889.64      131.60     449.47   \n",
       "min         1.00           0.00          0.00        0.00       0.00   \n",
       "25%      1763.25          17.00          0.00        0.00      17.00   \n",
       "50%      3525.50          59.50          4.00        0.00      58.00   \n",
       "75%      5287.75         219.00         23.00        4.00     184.75   \n",
       "max      7050.00        4710.00      20990.00     3424.00    4710.00   \n",
       "\n",
       "       num_loves  num_wows  num_hahas  num_sads  num_angrys  Column1  Column2  \\\n",
       "count    7050.00   7050.00    7050.00   7050.00     7050.00     0.00     0.00   \n",
       "mean       12.73      1.29       0.70      0.24        0.11      nan      nan   \n",
       "std        39.97      8.72       3.96      1.60        0.73      nan      nan   \n",
       "min         0.00      0.00       0.00      0.00        0.00      nan      nan   \n",
       "25%         0.00      0.00       0.00      0.00        0.00      nan      nan   \n",
       "50%         0.00      0.00       0.00      0.00        0.00      nan      nan   \n",
       "75%         3.00      0.00       0.00      0.00        0.00      nan      nan   \n",
       "max       657.00    278.00     157.00     51.00       31.00      nan      nan   \n",
       "\n",
       "       Column3  Column4  \n",
       "count     0.00     0.00  \n",
       "mean       nan      nan  \n",
       "std        nan      nan  \n",
       "min        nan      nan  \n",
       "25%        nan      nan  \n",
       "50%        nan      nan  \n",
       "75%        nan      nan  \n",
       "max        nan      nan  "
      ]
     },
     "execution_count": 171,
     "metadata": {},
     "output_type": "execute_result"
    }
   ],
   "source": [
    "pd.set_option('display.float_format', lambda x: '%.2f' % x)\n",
    "data.describe()"
   ]
  },
  {
   "cell_type": "markdown",
   "metadata": {},
   "source": [
    "### List of attributes and data types"
   ]
  },
  {
   "cell_type": "code",
   "execution_count": 172,
   "metadata": {
    "scrolled": true
   },
   "outputs": [
    {
     "name": "stdout",
     "output_type": "stream",
     "text": [
      "<class 'pandas.core.frame.DataFrame'>\n",
      "RangeIndex: 7050 entries, 0 to 7049\n",
      "Data columns (total 16 columns):\n",
      " #   Column            Non-Null Count  Dtype  \n",
      "---  ------            --------------  -----  \n",
      " 0   status_id         7050 non-null   int64  \n",
      " 1   status_type       7050 non-null   object \n",
      " 2   status_published  7050 non-null   object \n",
      " 3   num_reactions     7050 non-null   int64  \n",
      " 4   num_comments      7050 non-null   int64  \n",
      " 5   num_shares        7050 non-null   int64  \n",
      " 6   num_likes         7050 non-null   int64  \n",
      " 7   num_loves         7050 non-null   int64  \n",
      " 8   num_wows          7050 non-null   int64  \n",
      " 9   num_hahas         7050 non-null   int64  \n",
      " 10  num_sads          7050 non-null   int64  \n",
      " 11  num_angrys        7050 non-null   int64  \n",
      " 12  Column1           0 non-null      float64\n",
      " 13  Column2           0 non-null      float64\n",
      " 14  Column3           0 non-null      float64\n",
      " 15  Column4           0 non-null      float64\n",
      "dtypes: float64(4), int64(10), object(2)\n",
      "memory usage: 881.4+ KB\n"
     ]
    }
   ],
   "source": [
    "data.info()"
   ]
  },
  {
   "cell_type": "markdown",
   "metadata": {},
   "source": [
    "* There are the total of 7050 instances and 16 attributes in this data set. All except status_type and status_published columns are numeric.\n",
    "* There are 4 columns of float data type, 10 columns of integer type, and 2 columns of object type; string and date type.\n",
    "* There are 4 columns containing 7050 NaN values which are Column1, Colomn2, Column3, and Column4"
   ]
  },
  {
   "cell_type": "code",
   "execution_count": 173,
   "metadata": {},
   "outputs": [
    {
     "data": {
      "text/plain": [
       "True    7050\n",
       "Name: Column1, dtype: int64"
      ]
     },
     "execution_count": 173,
     "metadata": {},
     "output_type": "execute_result"
    }
   ],
   "source": [
    "# confirm that Columns1 has missing values\n",
    "column1_missing = data['Column1'].isna()\n",
    "data.loc[column1_missing,:]\n",
    "column1_missing.value_counts()"
   ]
  },
  {
   "cell_type": "code",
   "execution_count": 174,
   "metadata": {},
   "outputs": [
    {
     "data": {
      "text/plain": [
       "True    7050\n",
       "Name: Column2, dtype: int64"
      ]
     },
     "execution_count": 174,
     "metadata": {},
     "output_type": "execute_result"
    }
   ],
   "source": [
    "# confirm that Columns2 has missing values\n",
    "column2_missing = data['Column2'].isna()\n",
    "data.loc[column2_missing,:]\n",
    "column2_missing.value_counts()"
   ]
  },
  {
   "cell_type": "code",
   "execution_count": 175,
   "metadata": {},
   "outputs": [
    {
     "data": {
      "text/plain": [
       "True    7050\n",
       "Name: Column3, dtype: int64"
      ]
     },
     "execution_count": 175,
     "metadata": {},
     "output_type": "execute_result"
    }
   ],
   "source": [
    "# confirm that Columns3 has missing values\n",
    "column3_missing = data['Column3'].isna()\n",
    "data.loc[column3_missing,:]\n",
    "column3_missing.value_counts()"
   ]
  },
  {
   "cell_type": "code",
   "execution_count": 176,
   "metadata": {},
   "outputs": [
    {
     "data": {
      "text/plain": [
       "True    7050\n",
       "Name: Column4, dtype: int64"
      ]
     },
     "execution_count": 176,
     "metadata": {},
     "output_type": "execute_result"
    }
   ],
   "source": [
    "# confirm that Columns4 has missing values\n",
    "column4_missing = data['Column4'].isna()\n",
    "data.loc[column4_missing,:]\n",
    "column4_missing.value_counts()"
   ]
  },
  {
   "cell_type": "code",
   "execution_count": 177,
   "metadata": {},
   "outputs": [
    {
     "data": {
      "text/html": [
       "<div>\n",
       "<style scoped>\n",
       "    .dataframe tbody tr th:only-of-type {\n",
       "        vertical-align: middle;\n",
       "    }\n",
       "\n",
       "    .dataframe tbody tr th {\n",
       "        vertical-align: top;\n",
       "    }\n",
       "\n",
       "    .dataframe thead th {\n",
       "        text-align: right;\n",
       "    }\n",
       "</style>\n",
       "<table border=\"1\" class=\"dataframe\">\n",
       "  <thead>\n",
       "    <tr style=\"text-align: right;\">\n",
       "      <th></th>\n",
       "      <th>num_reactions</th>\n",
       "      <th>num_comments</th>\n",
       "      <th>num_shares</th>\n",
       "      <th>num_likes</th>\n",
       "      <th>num_wows</th>\n",
       "      <th>num_hahas</th>\n",
       "      <th>num_sads</th>\n",
       "      <th>num_angrys</th>\n",
       "    </tr>\n",
       "    <tr>\n",
       "      <th>status_type</th>\n",
       "      <th></th>\n",
       "      <th></th>\n",
       "      <th></th>\n",
       "      <th></th>\n",
       "      <th></th>\n",
       "      <th></th>\n",
       "      <th></th>\n",
       "      <th></th>\n",
       "    </tr>\n",
       "  </thead>\n",
       "  <tbody>\n",
       "    <tr>\n",
       "      <th>link</th>\n",
       "      <td>370.14</td>\n",
       "      <td>5.70</td>\n",
       "      <td>4.40</td>\n",
       "      <td>369.62</td>\n",
       "      <td>0.19</td>\n",
       "      <td>0.03</td>\n",
       "      <td>0.00</td>\n",
       "      <td>0.00</td>\n",
       "    </tr>\n",
       "    <tr>\n",
       "      <th>photo</th>\n",
       "      <td>181.29</td>\n",
       "      <td>15.99</td>\n",
       "      <td>2.55</td>\n",
       "      <td>178.78</td>\n",
       "      <td>0.68</td>\n",
       "      <td>0.19</td>\n",
       "      <td>0.14</td>\n",
       "      <td>0.05</td>\n",
       "    </tr>\n",
       "    <tr>\n",
       "      <th>status</th>\n",
       "      <td>438.78</td>\n",
       "      <td>36.24</td>\n",
       "      <td>2.56</td>\n",
       "      <td>435.53</td>\n",
       "      <td>1.17</td>\n",
       "      <td>0.11</td>\n",
       "      <td>0.39</td>\n",
       "      <td>0.02</td>\n",
       "    </tr>\n",
       "    <tr>\n",
       "      <th>video</th>\n",
       "      <td>283.41</td>\n",
       "      <td>642.48</td>\n",
       "      <td>115.68</td>\n",
       "      <td>243.02</td>\n",
       "      <td>2.45</td>\n",
       "      <td>1.74</td>\n",
       "      <td>0.41</td>\n",
       "      <td>0.25</td>\n",
       "    </tr>\n",
       "  </tbody>\n",
       "</table>\n",
       "</div>"
      ],
      "text/plain": [
       "             num_reactions  num_comments  num_shares  num_likes  num_wows  \\\n",
       "status_type                                                                 \n",
       "link                370.14          5.70        4.40     369.62      0.19   \n",
       "photo               181.29         15.99        2.55     178.78      0.68   \n",
       "status              438.78         36.24        2.56     435.53      1.17   \n",
       "video               283.41        642.48      115.68     243.02      2.45   \n",
       "\n",
       "             num_hahas  num_sads  num_angrys  \n",
       "status_type                                   \n",
       "link              0.03      0.00        0.00  \n",
       "photo             0.19      0.14        0.05  \n",
       "status            0.11      0.39        0.02  \n",
       "video             1.74      0.41        0.25  "
      ]
     },
     "execution_count": 177,
     "metadata": {},
     "output_type": "execute_result"
    }
   ],
   "source": [
    "# Calculate mean reactions comments, likes, shares, loves, wows, hahas, sads, and angrys for each media types\n",
    "mean_values = data[['status_type', 'num_reactions','num_comments', 'num_shares', 'num_likes', 'num_wows', 'num_hahas', 'num_sads', 'num_angrys']].groupby('status_type').mean()\n",
    "mean_values"
   ]
  },
  {
   "cell_type": "code",
   "execution_count": 178,
   "metadata": {
    "scrolled": true
   },
   "outputs": [
    {
     "data": {
      "image/png": "[encoded data removed]",
      "text/plain": [
       "<Figure size 864x360 with 1 Axes>"
      ]
     },
     "metadata": {
      "needs_background": "light"
     },
     "output_type": "display_data"
    }
   ],
   "source": [
    "plt.figure(figsize=(12, 5))\n",
    "sns.boxplot(x ='status_type', y='num_reactions', data=data)\n",
    "plt.xlabel('Type of Post')\n",
    "plt.ylabel('Total Number of Reactions')\n",
    "\n",
    "plt.show()"
   ]
  },
  {
   "cell_type": "markdown",
   "metadata": {},
   "source": [
    "There are outliers in all media types."
   ]
  },
  {
   "cell_type": "code",
   "execution_count": 179,
   "metadata": {},
   "outputs": [
    {
     "data": {
      "image/png": "[encoded data removed]",
      "text/plain": [
       "<Figure size 864x864 with 25 Axes>"
      ]
     },
     "metadata": {
      "needs_background": "light"
     },
     "output_type": "display_data"
    }
   ],
   "source": [
    "scatterData = ['num_reactions', 'num_shares', 'num_likes', 'num_wows', 'num_hahas']\n",
    "scatter_matrix(data[scatterData],figsize=(12, 12))\n",
    "plt.show()"
   ]
  },
  {
   "cell_type": "markdown",
   "metadata": {},
   "source": [
    "There is corelation between number of likes and number of reactions, this can be predict that as the number of reactions increase, the number of likes increase as well."
   ]
  },
  {
   "cell_type": "markdown",
   "metadata": {},
   "source": [
    "### Modify data"
   ]
  },
  {
   "cell_type": "code",
   "execution_count": 180,
   "metadata": {},
   "outputs": [
    {
     "data": {
      "text/html": [
       "<div>\n",
       "<style scoped>\n",
       "    .dataframe tbody tr th:only-of-type {\n",
       "        vertical-align: middle;\n",
       "    }\n",
       "\n",
       "    .dataframe tbody tr th {\n",
       "        vertical-align: top;\n",
       "    }\n",
       "\n",
       "    .dataframe thead th {\n",
       "        text-align: right;\n",
       "    }\n",
       "</style>\n",
       "<table border=\"1\" class=\"dataframe\">\n",
       "  <thead>\n",
       "    <tr style=\"text-align: right;\">\n",
       "      <th></th>\n",
       "      <th>num_reactions</th>\n",
       "      <th>num_comments</th>\n",
       "      <th>num_shares</th>\n",
       "      <th>num_likes</th>\n",
       "      <th>num_loves</th>\n",
       "      <th>num_wows</th>\n",
       "      <th>num_hahas</th>\n",
       "      <th>num_sads</th>\n",
       "      <th>num_angrys</th>\n",
       "    </tr>\n",
       "  </thead>\n",
       "  <tbody>\n",
       "    <tr>\n",
       "      <th>0</th>\n",
       "      <td>529</td>\n",
       "      <td>512</td>\n",
       "      <td>262</td>\n",
       "      <td>432</td>\n",
       "      <td>92</td>\n",
       "      <td>3</td>\n",
       "      <td>1</td>\n",
       "      <td>1</td>\n",
       "      <td>0</td>\n",
       "    </tr>\n",
       "    <tr>\n",
       "      <th>1</th>\n",
       "      <td>150</td>\n",
       "      <td>0</td>\n",
       "      <td>0</td>\n",
       "      <td>150</td>\n",
       "      <td>0</td>\n",
       "      <td>0</td>\n",
       "      <td>0</td>\n",
       "      <td>0</td>\n",
       "      <td>0</td>\n",
       "    </tr>\n",
       "    <tr>\n",
       "      <th>2</th>\n",
       "      <td>227</td>\n",
       "      <td>236</td>\n",
       "      <td>57</td>\n",
       "      <td>204</td>\n",
       "      <td>21</td>\n",
       "      <td>1</td>\n",
       "      <td>1</td>\n",
       "      <td>0</td>\n",
       "      <td>0</td>\n",
       "    </tr>\n",
       "    <tr>\n",
       "      <th>3</th>\n",
       "      <td>111</td>\n",
       "      <td>0</td>\n",
       "      <td>0</td>\n",
       "      <td>111</td>\n",
       "      <td>0</td>\n",
       "      <td>0</td>\n",
       "      <td>0</td>\n",
       "      <td>0</td>\n",
       "      <td>0</td>\n",
       "    </tr>\n",
       "    <tr>\n",
       "      <th>4</th>\n",
       "      <td>213</td>\n",
       "      <td>0</td>\n",
       "      <td>0</td>\n",
       "      <td>204</td>\n",
       "      <td>9</td>\n",
       "      <td>0</td>\n",
       "      <td>0</td>\n",
       "      <td>0</td>\n",
       "      <td>0</td>\n",
       "    </tr>\n",
       "    <tr>\n",
       "      <th>...</th>\n",
       "      <td>...</td>\n",
       "      <td>...</td>\n",
       "      <td>...</td>\n",
       "      <td>...</td>\n",
       "      <td>...</td>\n",
       "      <td>...</td>\n",
       "      <td>...</td>\n",
       "      <td>...</td>\n",
       "      <td>...</td>\n",
       "    </tr>\n",
       "    <tr>\n",
       "      <th>7045</th>\n",
       "      <td>89</td>\n",
       "      <td>0</td>\n",
       "      <td>0</td>\n",
       "      <td>89</td>\n",
       "      <td>0</td>\n",
       "      <td>0</td>\n",
       "      <td>0</td>\n",
       "      <td>0</td>\n",
       "      <td>0</td>\n",
       "    </tr>\n",
       "    <tr>\n",
       "      <th>7046</th>\n",
       "      <td>16</td>\n",
       "      <td>0</td>\n",
       "      <td>0</td>\n",
       "      <td>14</td>\n",
       "      <td>1</td>\n",
       "      <td>0</td>\n",
       "      <td>1</td>\n",
       "      <td>0</td>\n",
       "      <td>0</td>\n",
       "    </tr>\n",
       "    <tr>\n",
       "      <th>7047</th>\n",
       "      <td>2</td>\n",
       "      <td>0</td>\n",
       "      <td>0</td>\n",
       "      <td>1</td>\n",
       "      <td>1</td>\n",
       "      <td>0</td>\n",
       "      <td>0</td>\n",
       "      <td>0</td>\n",
       "      <td>0</td>\n",
       "    </tr>\n",
       "    <tr>\n",
       "      <th>7048</th>\n",
       "      <td>351</td>\n",
       "      <td>12</td>\n",
       "      <td>22</td>\n",
       "      <td>349</td>\n",
       "      <td>2</td>\n",
       "      <td>0</td>\n",
       "      <td>0</td>\n",
       "      <td>0</td>\n",
       "      <td>0</td>\n",
       "    </tr>\n",
       "    <tr>\n",
       "      <th>7049</th>\n",
       "      <td>17</td>\n",
       "      <td>0</td>\n",
       "      <td>0</td>\n",
       "      <td>17</td>\n",
       "      <td>0</td>\n",
       "      <td>0</td>\n",
       "      <td>0</td>\n",
       "      <td>0</td>\n",
       "      <td>0</td>\n",
       "    </tr>\n",
       "  </tbody>\n",
       "</table>\n",
       "<p>7050 rows × 9 columns</p>\n",
       "</div>"
      ],
      "text/plain": [
       "      num_reactions  num_comments  num_shares  num_likes  num_loves  num_wows  \\\n",
       "0               529           512         262        432         92         3   \n",
       "1               150             0           0        150          0         0   \n",
       "2               227           236          57        204         21         1   \n",
       "3               111             0           0        111          0         0   \n",
       "4               213             0           0        204          9         0   \n",
       "...             ...           ...         ...        ...        ...       ...   \n",
       "7045             89             0           0         89          0         0   \n",
       "7046             16             0           0         14          1         0   \n",
       "7047              2             0           0          1          1         0   \n",
       "7048            351            12          22        349          2         0   \n",
       "7049             17             0           0         17          0         0   \n",
       "\n",
       "      num_hahas  num_sads  num_angrys  \n",
       "0             1         1           0  \n",
       "1             0         0           0  \n",
       "2             1         0           0  \n",
       "3             0         0           0  \n",
       "4             0         0           0  \n",
       "...         ...       ...         ...  \n",
       "7045          0         0           0  \n",
       "7046          1         0           0  \n",
       "7047          0         0           0  \n",
       "7048          0         0           0  \n",
       "7049          0         0           0  \n",
       "\n",
       "[7050 rows x 9 columns]"
      ]
     },
     "execution_count": 180,
     "metadata": {},
     "output_type": "execute_result"
    }
   ],
   "source": [
    "# Columns used for this exploration include 'num_reactions', 'num_comments', 'num_shares', 'num_likes', 'num_loves', 'num_wows','num_hahas', 'num_sads', 'num_angrys'.\n",
    "\n",
    "reactions = data.loc[:,'num_reactions': 'num_angrys']\n",
    "reactions"
   ]
  },
  {
   "cell_type": "code",
   "execution_count": 181,
   "metadata": {},
   "outputs": [
    {
     "data": {
      "text/plain": [
       "num_reactions    0\n",
       "num_comments     0\n",
       "num_shares       0\n",
       "num_likes        0\n",
       "num_loves        0\n",
       "num_wows         0\n",
       "num_hahas        0\n",
       "num_sads         0\n",
       "num_angrys       0\n",
       "dtype: int64"
      ]
     },
     "execution_count": 181,
     "metadata": {},
     "output_type": "execute_result"
    }
   ],
   "source": [
    "# get minimum value of each column\n",
    "reactions.min()"
   ]
  },
  {
   "cell_type": "code",
   "execution_count": 182,
   "metadata": {
    "scrolled": true
   },
   "outputs": [
    {
     "data": {
      "text/plain": [
       "num_reactions     4710\n",
       "num_comments     20990\n",
       "num_shares        3424\n",
       "num_likes         4710\n",
       "num_loves          657\n",
       "num_wows           278\n",
       "num_hahas          157\n",
       "num_sads            51\n",
       "num_angrys          31\n",
       "dtype: int64"
      ]
     },
     "execution_count": 182,
     "metadata": {},
     "output_type": "execute_result"
    }
   ],
   "source": [
    "# get maximum value of each column\n",
    "reactions.max()"
   ]
  },
  {
   "cell_type": "code",
   "execution_count": 183,
   "metadata": {},
   "outputs": [
    {
     "data": {
      "text/plain": [
       "num_reactions   230.12\n",
       "num_comments    224.36\n",
       "num_shares       40.02\n",
       "num_likes       215.04\n",
       "num_loves        12.73\n",
       "num_wows          1.29\n",
       "num_hahas         0.70\n",
       "num_sads          0.24\n",
       "num_angrys        0.11\n",
       "dtype: float64"
      ]
     },
     "execution_count": 183,
     "metadata": {},
     "output_type": "execute_result"
    }
   ],
   "source": [
    "# get mean value of each column\n",
    "reactions.mean()"
   ]
  },
  {
   "cell_type": "code",
   "execution_count": 184,
   "metadata": {},
   "outputs": [
    {
     "data": {
      "text/plain": [
       "num_reactions    1622326\n",
       "num_comments     1581710\n",
       "num_shares        282159\n",
       "num_likes        1516054\n",
       "num_loves          89737\n",
       "num_wows            9090\n",
       "num_hahas           4910\n",
       "num_sads            1718\n",
       "num_angrys           798\n",
       "dtype: int64"
      ]
     },
     "execution_count": 184,
     "metadata": {},
     "output_type": "execute_result"
    }
   ],
   "source": [
    "reactions.sum()"
   ]
  },
  {
   "cell_type": "code",
   "execution_count": 196,
   "metadata": {},
   "outputs": [
    {
     "data": {
      "text/plain": [
       "num_shares                      282159\n",
       "num_likes                      1516054\n",
       "num_loves                        89737\n",
       "num_wows                          9090\n",
       "num_hahas                         4910\n",
       "Total of positive reactions    1901950\n",
       "dtype: int64"
      ]
     },
     "execution_count": 196,
     "metadata": {},
     "output_type": "execute_result"
    }
   ],
   "source": [
    "# get number of positive reactions, data used are from 'num_shares', 'num_likes', 'num_loves', 'num_wows', and 'num_hahas'\n",
    "#positiveReactions = data.loc[:,'num_shares':'num_hahas'].sum()\n",
    "positiveReactions['Total of positive reactions'] = positiveReactions['num_shares']+positiveReactions['num_likes']+positiveReactions['num_loves']+positiveReactions['num_wows']+positiveReactions['num_hahas']\n",
    "positiveReactions"
   ]
  },
  {
   "cell_type": "code",
   "execution_count": 194,
   "metadata": {
    "scrolled": true
   },
   "outputs": [
    {
     "data": {
      "text/plain": [
       "num_sads                       1718\n",
       "num_angrys                      798\n",
       "Total of negative reactions    2516\n",
       "dtype: int64"
      ]
     },
     "execution_count": 194,
     "metadata": {},
     "output_type": "execute_result"
    }
   ],
   "source": [
    "# get number of negative reactions, data used are from 'num_sads' and 'num_angrys'\n",
    "#negativeReactions = data.loc[:,'num_sads':'num_angrys'].sum()\n",
    "negativeReactions['Total of negative reactions'] = negativeReactions['num_sads']+negativeReactions['num_angrys']\n",
    "negativeReactions\n"
   ]
  },
  {
   "cell_type": "code",
   "execution_count": null,
   "metadata": {},
   "outputs": [],
   "source": []
  },
  {
   "cell_type": "raw",
   "metadata": {},
   "source": [
    "fig, ax = plt.subplots(figsize=(20,10)) \n",
    "\n",
    "data.plot(x = 'day', y = 'positiveReactions', ax = ax) \n",
    "data.plot(x = 'day', y = 'negativeReactions', ax = ax, secondary_y = True) "
   ]
  },
  {
   "cell_type": "code",
   "execution_count": null,
   "metadata": {},
   "outputs": [],
   "source": []
  },
  {
   "cell_type": "code",
   "execution_count": null,
   "metadata": {},
   "outputs": [],
   "source": []
  }
 ],
 "metadata": {
  "kernelspec": {
   "display_name": "Python 3",
   "language": "python",
   "name": "python3"
  },
  "language_info": {
   "codemirror_mode": {
    "name": "ipython",
    "version": 3
   },
   "file_extension": ".py",
   "mimetype": "text/x-python",
   "name": "python",
   "nbconvert_exporter": "python",
   "pygments_lexer": "ipython3",
   "version": "3.8.3"
  }
 },
 "nbformat": 4,
 "nbformat_minor": 4
}
