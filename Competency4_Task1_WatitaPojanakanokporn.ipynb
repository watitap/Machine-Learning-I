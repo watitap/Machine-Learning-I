{
  "cells": [
    {
      "cell_type": "markdown",
      "metadata": {
        "id": "view-in-github",
        "colab_type": "text"
      },
      "source": [
        "<a href=\"https://colab.research.google.com/github/watitap/Machine-Learning-I/blob/main/Competency4_Task1_WatitaPojanakanokporn.ipynb\" target=\"_parent\"><img src=\"https://colab.research.google.com/assets/colab-badge.svg\" alt=\"Open In Colab\"/></a>"
      ]
    },
    {
      "cell_type": "markdown",
      "metadata": {
        "id": "x-TczMLGr2wb"
      },
      "source": [
        "## MNIST"
      ]
    },
    {
      "cell_type": "markdown",
      "metadata": {
        "id": "L-4OAASwr2wd"
      },
      "source": [
        "The MNIST database of handwritten digits with 784 features, raw data available at: http://yann.lecun.com/exdb/mnist/. For this project, the dataset is splitted in a training set of the first 50,000 examples, then a validation set of 10,000 examples, and a test set of 10,000 examples\n",
        "\n",
        "Reference: https://www.openml.org/search?type=data&status=active&id=554"
      ]
    },
    {
      "cell_type": "markdown",
      "metadata": {
        "id": "qqyQzvDKr2we"
      },
      "source": [
        "### Import functions and MNIST dataset"
      ]
    },
    {
      "cell_type": "code",
      "execution_count": 80,
      "metadata": {
        "id": "GDirSEnZr2wf"
      },
      "outputs": [],
      "source": [
        "import os\n",
        "import warnings\n",
        "warnings.filterwarnings('ignore')\n",
        "\n",
        "import sklearn\n",
        "from sklearn.datasets import fetch_openml"
      ]
    },
    {
      "cell_type": "markdown",
      "metadata": {
        "id": "QHZ-NxLZr2wg"
      },
      "source": [
        "### Load data via OpenML"
      ]
    },
    {
      "cell_type": "code",
      "execution_count": 81,
      "metadata": {
        "colab": {
          "base_uri": "https://localhost:8080/"
        },
        "id": "Hg89ibhVr2wg",
        "outputId": "edf1fab9-94bf-4133-b133-39ea2f48d0b0"
      },
      "outputs": [
        {
          "output_type": "execute_result",
          "data": {
            "text/plain": [
              "dict_keys(['data', 'target', 'frame', 'categories', 'feature_names', 'target_names', 'DESCR', 'details', 'url'])"
            ]
          },
          "metadata": {},
          "execution_count": 81
        }
      ],
      "source": [
        "mnist = fetch_openml('mnist_784', version=1)\n",
        "mnist.keys()"
      ]
    },
    {
      "cell_type": "markdown",
      "metadata": {
        "id": "CHNfavSqr2wh"
      },
      "source": [
        "### Prepare data"
      ]
    },
    {
      "cell_type": "code",
      "execution_count": 82,
      "metadata": {
        "colab": {
          "base_uri": "https://localhost:8080/"
        },
        "id": "N1HSMTYBr2wh",
        "outputId": "1ac57542-1f95-4c60-e890-5fe7547564d5"
      },
      "outputs": [
        {
          "output_type": "stream",
          "name": "stdout",
          "text": [
            "Shape of X: (70000, 784) \n",
            "Shape of y: (70000,)\n"
          ]
        }
      ],
      "source": [
        "X, y = mnist[\"data\"], mnist[\"target\"]\n",
        "X.shape\n",
        "y.shape\n",
        "print(\"Shape of X:\", X.shape,\"\\nShape of y:\", y.shape)"
      ]
    },
    {
      "cell_type": "code",
      "source": [
        "import matplotlib as mpl\n",
        "import matplotlib.pyplot as plt\n",
        "\n",
        "some_digit = X.to_numpy()[17] # getting data from index 17 which represents number 8\n",
        "some_digit_image = some_digit.reshape(28, 28)\n",
        "\n",
        "plt.imshow(some_digit_image, cmap=\"binary\")\n",
        "plt.axis(\"off\")\n",
        "plt.show()"
      ],
      "metadata": {
        "colab": {
          "base_uri": "https://localhost:8080/",
          "height": 406
        },
        "id": "hjd5yaGAsqAi",
        "outputId": "c32b3975-8206-4014-836c-f69fa813ab85"
      },
      "execution_count": 83,
      "outputs": [
        {
          "output_type": "display_data",
          "data": {
            "text/plain": [
              "<Figure size 640x480 with 1 Axes>"
            ],
            "image/png": "[encoded data removed]"
          },
          "metadata": {}
        }
      ]
    },
    {
      "cell_type": "code",
      "execution_count": 84,
      "metadata": {
        "colab": {
          "base_uri": "https://localhost:8080/",
          "height": 38
        },
        "id": "afejrM0Er2wi",
        "outputId": "91f65dfc-dfb1-483e-da62-7eea838b36fd"
      },
      "outputs": [
        {
          "output_type": "execute_result",
          "data": {
            "text/plain": [
              "'8'"
            ],
            "application/vnd.google.colaboratory.intrinsic+json": {
              "type": "string"
            }
          },
          "metadata": {},
          "execution_count": 84
        }
      ],
      "source": [
        "# Define target on index 17\n",
        "y[17]"
      ]
    },
    {
      "cell_type": "code",
      "execution_count": 85,
      "metadata": {
        "id": "oR0B6PCHr2wi"
      },
      "outputs": [],
      "source": [
        "import numpy as np\n",
        "y = y.astype(np.uint8)"
      ]
    },
    {
      "cell_type": "code",
      "execution_count": 86,
      "metadata": {
        "id": "WGwLNt9Pr2wi"
      },
      "outputs": [],
      "source": [
        "# Split dataset into training set and validation set and test set\n",
        "import numpy as np\n",
        "from sklearn.model_selection import train_test_split\n",
        "\n",
        "# Setting 50000 for Training set and the rest is for the remaining set\n",
        "X_train, X_test, y_train, y_test = X[:50000], X[50000:], y[:50000], y[50000:]\n",
        "# Splitting the remaining set into validation set and test set\n",
        "X_val, X_test, y_val, y_test = train_test_split(X_test, y_test, test_size=0.5)"
      ]
    },
    {
      "cell_type": "code",
      "execution_count": 87,
      "metadata": {
        "colab": {
          "base_uri": "https://localhost:8080/"
        },
        "id": "ChO6zicVr2wj",
        "outputId": "cd51ae3f-f770-43fe-a2cb-34f742f63001"
      },
      "outputs": [
        {
          "output_type": "stream",
          "name": "stdout",
          "text": [
            "50000\n",
            "10000\n",
            "10000\n"
          ]
        }
      ],
      "source": [
        "# Confirm that dataset is splitted into 3 sets\n",
        "for dataset in [y_train, y_val, y_test]:\n",
        "    print(round(len(dataset)))"
      ]
    },
    {
      "cell_type": "code",
      "execution_count": 88,
      "metadata": {
        "colab": {
          "base_uri": "https://localhost:8080/"
        },
        "id": "fR8aXn87r2wj",
        "outputId": "3be1cb88-36b4-4209-f658-88585dbe22e8"
      },
      "outputs": [
        {
          "output_type": "stream",
          "name": "stdout",
          "text": [
            "Total of images is 70000 \n",
            "\n",
            "Training set is 50000 \n",
            "Remaining set is 10000 which is splitted into test set and validation set\n",
            "\n",
            "Test set is 10000 and Validation set is 10000\n"
          ]
        }
      ],
      "source": [
        "print(\"Total of images is\",len(y), \"\\n\\n\"\n",
        "      \"Training set is\",len(y_train), \"\\n\"\n",
        "      \"Remaining set is\",len(y_val),\"which is splitted into test set and validation set\\n\\n\"\n",
        "      \"Test set is\",len(y_test), \"and Validation set is\",len(y_val))"
      ]
    },
    {
      "cell_type": "markdown",
      "metadata": {
        "id": "sh0j6mMCr2wk"
      },
      "source": [
        "## Training a Binary Classifier"
      ]
    },
    {
      "cell_type": "code",
      "execution_count": 89,
      "metadata": {
        "id": "c61uShMkr2wk"
      },
      "outputs": [],
      "source": [
        "# Set target variables for training set, test set, and validation set\n",
        "y_train_8 = (y_train == 8)  # True for all 8s, False for all other digits on training set\n",
        "y_val_8 = (y_val == 8) # True for all 8s, False for all other digits on validation set\n",
        "y_test_8 = (y_test == 8) # True for all 8s, False for all other digits on test set"
      ]
    },
    {
      "cell_type": "code",
      "execution_count": 90,
      "metadata": {
        "colab": {
          "base_uri": "https://localhost:8080/"
        },
        "id": "qc0qlXE6r2wl",
        "outputId": "92ea9f76-808e-40e4-93ae-dea03942819f"
      },
      "outputs": [
        {
          "output_type": "execute_result",
          "data": {
            "text/plain": [
              "array([ True])"
            ]
          },
          "metadata": {},
          "execution_count": 90
        }
      ],
      "source": [
        "# Predict result on training set using Stochastic Gradient Descent (SGD) classifier\n",
        "from sklearn.linear_model import SGDClassifier\n",
        "\n",
        "sgd_clf = SGDClassifier(random_state=42)\n",
        "sgd_clf.fit(X_train, y_train_8)\n",
        "sgd_clf.predict([some_digit])"
      ]
    },
    {
      "cell_type": "code",
      "execution_count": 91,
      "metadata": {
        "colab": {
          "base_uri": "https://localhost:8080/"
        },
        "id": "9suhyGULr2wl",
        "outputId": "1590ae73-4f3e-4da1-c801-da112a5c351d"
      },
      "outputs": [
        {
          "output_type": "execute_result",
          "data": {
            "text/plain": [
              "array([ True])"
            ]
          },
          "metadata": {},
          "execution_count": 91
        }
      ],
      "source": [
        "# Predict result on validation set using Stochastic Gradient Descent (SGD) classifier\n",
        "sgd_clf.fit(X_val, y_val_8)\n",
        "sgd_clf.predict([some_digit])"
      ]
    },
    {
      "cell_type": "code",
      "execution_count": 92,
      "metadata": {
        "colab": {
          "base_uri": "https://localhost:8080/"
        },
        "id": "J3t5atp4r2wm",
        "outputId": "fc16729b-b4af-46ff-8ae1-3f578f07550c"
      },
      "outputs": [
        {
          "output_type": "execute_result",
          "data": {
            "text/plain": [
              "array([ True])"
            ]
          },
          "metadata": {},
          "execution_count": 92
        }
      ],
      "source": [
        "# Predict result on test set using Stochastic Gradient Descent (SGD) classifier\n",
        "sgd_clf.fit(X_val, y_val_8)\n",
        "sgd_clf.predict([some_digit])"
      ]
    },
    {
      "cell_type": "code",
      "execution_count": 93,
      "metadata": {
        "colab": {
          "base_uri": "https://localhost:8080/"
        },
        "id": "mpQuv18Qr2wm",
        "outputId": "124fc564-f30e-4cb5-dc8c-18b2eaf5943c"
      },
      "outputs": [
        {
          "output_type": "execute_result",
          "data": {
            "text/plain": [
              "array([0.9416, 0.9293, 0.9355, 0.9025, 0.9437])"
            ]
          },
          "metadata": {},
          "execution_count": 93
        }
      ],
      "source": [
        "# Evaluate accuracy using k-fold cross validation on trainning set\n",
        "from sklearn.model_selection import cross_val_score\n",
        "\n",
        "cross_val_score(sgd_clf, X_train, y_train_8, cv=5, scoring=\"accuracy\")"
      ]
    },
    {
      "cell_type": "code",
      "execution_count": 94,
      "metadata": {
        "colab": {
          "base_uri": "https://localhost:8080/"
        },
        "id": "4CES983rr2wm",
        "outputId": "2a144a64-20d0-4e57-9dc9-3fdb8de8a47b"
      },
      "outputs": [
        {
          "output_type": "execute_result",
          "data": {
            "text/plain": [
              "array([0.906 , 0.932 , 0.93  , 0.9375, 0.9215])"
            ]
          },
          "metadata": {},
          "execution_count": 94
        }
      ],
      "source": [
        "# Evaluate accuracy using k-fold cross validation on validation set\n",
        "cross_val_score(sgd_clf, X_val, y_val_8, cv=5, scoring=\"accuracy\")"
      ]
    },
    {
      "cell_type": "code",
      "execution_count": 95,
      "metadata": {
        "colab": {
          "base_uri": "https://localhost:8080/"
        },
        "id": "Vd5d68Hjr2wn",
        "outputId": "beb6382a-c4fe-4c77-ef37-4db4ac6fcf06"
      },
      "outputs": [
        {
          "output_type": "execute_result",
          "data": {
            "text/plain": [
              "array([0.9125, 0.9275, 0.93  , 0.931 , 0.926 ])"
            ]
          },
          "metadata": {},
          "execution_count": 95
        }
      ],
      "source": [
        "# Evaluate accuracy using k-fold cross validation on test set\n",
        "cross_val_score(sgd_clf, X_test, y_test_8, cv=5, scoring=\"accuracy\")"
      ]
    },
    {
      "cell_type": "code",
      "execution_count": 96,
      "metadata": {
        "colab": {
          "base_uri": "https://localhost:8080/"
        },
        "id": "-vo9F_NZr2wn",
        "outputId": "ef635517-cacf-45a4-abbb-4ac7e3a28cf4"
      },
      "outputs": [
        {
          "output_type": "execute_result",
          "data": {
            "text/plain": [
              "array([0.9056, 0.9022, 0.9047, 0.9015, 0.9018])"
            ]
          },
          "metadata": {},
          "execution_count": 96
        }
      ],
      "source": [
        "# Re-evaulate to check the accuracy of images that are not 8\n",
        "from sklearn.base import BaseEstimator\n",
        "\n",
        "class Never8Classifier(BaseEstimator):\n",
        "    def fit(self, X, y=None):\n",
        "        return self\n",
        "    def predict(self, X):\n",
        "        return np.zeros((len(X), 1), dtype=bool)\n",
        "\n",
        "never_8_clf = Never8Classifier()\n",
        "cross_val_score(never_8_clf, X_train, y_train_8, cv=5, scoring=\"accuracy\") # accuracy on not 8 on training set"
      ]
    },
    {
      "cell_type": "code",
      "execution_count": 97,
      "metadata": {
        "colab": {
          "base_uri": "https://localhost:8080/"
        },
        "id": "KK2VvwDdr2wn",
        "outputId": "a991dcc5-c3c6-4af2-caa7-cfb4a6e4f2cb"
      },
      "outputs": [
        {
          "output_type": "execute_result",
          "data": {
            "text/plain": [
              "array([0.9035, 0.896 , 0.898 , 0.8925, 0.9085])"
            ]
          },
          "metadata": {},
          "execution_count": 97
        }
      ],
      "source": [
        "cross_val_score(never_8_clf, X_val, y_val_8, cv=5, scoring=\"accuracy\") # accuracy on not 8 on validation set"
      ]
    },
    {
      "cell_type": "code",
      "execution_count": 98,
      "metadata": {
        "colab": {
          "base_uri": "https://localhost:8080/"
        },
        "id": "23o3C-alr2wo",
        "outputId": "4e78f416-9172-4121-8650-543c0a8932b5"
      },
      "outputs": [
        {
          "output_type": "execute_result",
          "data": {
            "text/plain": [
              "array([0.9055, 0.8975, 0.908 , 0.8905, 0.9085])"
            ]
          },
          "metadata": {},
          "execution_count": 98
        }
      ],
      "source": [
        "cross_val_score(never_8_clf, X_test, y_test_8, cv=5, scoring=\"accuracy\") # accuracy on not 8 on test set"
      ]
    },
    {
      "cell_type": "code",
      "execution_count": 99,
      "metadata": {
        "colab": {
          "base_uri": "https://localhost:8080/"
        },
        "id": "gTGp0wIOr2wo",
        "outputId": "e5ddfe07-7b41-4754-ddfd-f407395b8e49"
      },
      "outputs": [
        {
          "output_type": "execute_result",
          "data": {
            "text/plain": [
              "array([False, False, False, ...,  True,  True, False])"
            ]
          },
          "metadata": {},
          "execution_count": 99
        }
      ],
      "source": [
        "# Predict training set using cross validation\n",
        "from sklearn.model_selection import cross_val_predict\n",
        "y_train_pred = cross_val_predict(sgd_clf, X_train, y_train_8, cv=5)\n",
        "y_train_pred\n"
      ]
    },
    {
      "cell_type": "code",
      "execution_count": 100,
      "metadata": {
        "colab": {
          "base_uri": "https://localhost:8080/"
        },
        "id": "-kTZs5_ar2wo",
        "outputId": "7ad8d91d-f00b-4428-eb9a-65c211c922ae"
      },
      "outputs": [
        {
          "output_type": "execute_result",
          "data": {
            "text/plain": [
              "array([ True, False, False, ..., False, False, False])"
            ]
          },
          "metadata": {},
          "execution_count": 100
        }
      ],
      "source": [
        "y_val_pred = cross_val_predict(sgd_clf, X_val, y_val_8, cv=5)\n",
        "y_val_pred"
      ]
    },
    {
      "cell_type": "code",
      "execution_count": 101,
      "metadata": {
        "colab": {
          "base_uri": "https://localhost:8080/"
        },
        "id": "C-_Rm988r2wo",
        "outputId": "cf8b4bda-dcfb-44fd-979e-bdee047b587e"
      },
      "outputs": [
        {
          "output_type": "execute_result",
          "data": {
            "text/plain": [
              "array([False, False, False, ..., False,  True, False])"
            ]
          },
          "metadata": {},
          "execution_count": 101
        }
      ],
      "source": [
        "y_test_pred = cross_val_predict(sgd_clf, X_test, y_test_8, cv=5)\n",
        "y_test_pred"
      ]
    },
    {
      "cell_type": "code",
      "execution_count": 102,
      "metadata": {
        "colab": {
          "base_uri": "https://localhost:8080/"
        },
        "id": "FYZDfWofr2wp",
        "outputId": "d40e3a9a-2f01-4ef7-c090-c204fff28483"
      },
      "outputs": [
        {
          "output_type": "execute_result",
          "data": {
            "text/plain": [
              "array([[43778,  1380],\n",
              "       [ 2094,  2748]])"
            ]
          },
          "metadata": {},
          "execution_count": 102
        }
      ],
      "source": [
        "# Define performance on training set using confusion matrix\n",
        "from sklearn.metrics import confusion_matrix\n",
        "\n",
        "confusion_matrix(y_train_8, y_train_pred)"
      ]
    },
    {
      "cell_type": "code",
      "execution_count": 103,
      "metadata": {
        "colab": {
          "base_uri": "https://localhost:8080/"
        },
        "id": "JG2KUShyr2wp",
        "outputId": "3c082b25-9d96-4e3e-f03f-eee189999c19"
      },
      "outputs": [
        {
          "output_type": "execute_result",
          "data": {
            "text/plain": [
              "array([[8636,  361],\n",
              "       [ 385,  618]])"
            ]
          },
          "metadata": {},
          "execution_count": 103
        }
      ],
      "source": [
        "confusion_matrix(y_val_8, y_val_pred)"
      ]
    },
    {
      "cell_type": "code",
      "execution_count": 104,
      "metadata": {
        "colab": {
          "base_uri": "https://localhost:8080/"
        },
        "id": "XRrk6oZor2wp",
        "outputId": "ea38b558-6135-4bf2-c308-9b75527035c7"
      },
      "outputs": [
        {
          "output_type": "execute_result",
          "data": {
            "text/plain": [
              "array([[8589,  431],\n",
              "       [ 315,  665]])"
            ]
          },
          "metadata": {},
          "execution_count": 104
        }
      ],
      "source": [
        "confusion_matrix(y_test_8, y_test_pred)"
      ]
    },
    {
      "cell_type": "code",
      "execution_count": 105,
      "metadata": {
        "colab": {
          "base_uri": "https://localhost:8080/"
        },
        "id": "4FKEH08br2wp",
        "outputId": "a931e507-682c-43fc-d39a-e6ee131278da"
      },
      "outputs": [
        {
          "output_type": "execute_result",
          "data": {
            "text/plain": [
              "array([[45158,     0],\n",
              "       [    0,  4842]])"
            ]
          },
          "metadata": {},
          "execution_count": 105
        }
      ],
      "source": [
        "y_train_perfect_predictions = y_train_8  # pretend we reached perfection\n",
        "confusion_matrix(y_train_8, y_train_perfect_predictions)"
      ]
    },
    {
      "cell_type": "code",
      "execution_count": 106,
      "metadata": {
        "colab": {
          "base_uri": "https://localhost:8080/"
        },
        "id": "MklRyVq5r2wq",
        "outputId": "0c5fa4d0-c89b-4c0a-a053-629c9dac4446"
      },
      "outputs": [
        {
          "output_type": "execute_result",
          "data": {
            "text/plain": [
              "0.6656976744186046"
            ]
          },
          "metadata": {},
          "execution_count": 106
        }
      ],
      "source": [
        "# Define presicion score on training set (True Positive/ True Positive + False Positive )\n",
        "from sklearn.metrics import precision_score, recall_score\n",
        "\n",
        "precision_score(y_train_8, y_train_pred) # == 2748 / (2748 +  1380)"
      ]
    },
    {
      "cell_type": "code",
      "execution_count": 107,
      "metadata": {
        "colab": {
          "base_uri": "https://localhost:8080/"
        },
        "id": "J6XOaofLr2wq",
        "outputId": "193550e9-734d-4218-c5fa-8527d09de3a4"
      },
      "outputs": [
        {
          "output_type": "execute_result",
          "data": {
            "text/plain": [
              "0.6312563840653729"
            ]
          },
          "metadata": {},
          "execution_count": 107
        }
      ],
      "source": [
        "# Define presicion score on validation set\n",
        "precision_score(y_val_8, y_val_pred) # == 743 / (743 +777)"
      ]
    },
    {
      "cell_type": "code",
      "execution_count": 108,
      "metadata": {
        "colab": {
          "base_uri": "https://localhost:8080/"
        },
        "id": "xaZ6f6kwr2wq",
        "outputId": "a574e399-a8b1-476c-ac98-dc8742fb9b48"
      },
      "outputs": [
        {
          "output_type": "execute_result",
          "data": {
            "text/plain": [
              "0.6067518248175182"
            ]
          },
          "metadata": {},
          "execution_count": 108
        }
      ],
      "source": [
        "# Define presicion score on test set\n",
        "precision_score(y_test_8, y_test_pred) # == 765 / (765 +960)"
      ]
    },
    {
      "cell_type": "code",
      "execution_count": 109,
      "metadata": {
        "colab": {
          "base_uri": "https://localhost:8080/"
        },
        "id": "Nu1VjyLUr2wr",
        "outputId": "2d4280ee-f893-4b7f-8fdb-259d28f5292c"
      },
      "outputs": [
        {
          "output_type": "execute_result",
          "data": {
            "text/plain": [
              "0.5675340768277571"
            ]
          },
          "metadata": {},
          "execution_count": 109
        }
      ],
      "source": [
        "# Define Recall score on training set (True Positive/ True Positive + False Negative )\n",
        "recall_score(y_train_8, y_train_pred) "
      ]
    },
    {
      "cell_type": "code",
      "execution_count": 110,
      "metadata": {
        "colab": {
          "base_uri": "https://localhost:8080/"
        },
        "id": "egvTrJNWr2wr",
        "outputId": "5a53e773-89d3-4bdc-ab2b-7773a996dea9"
      },
      "outputs": [
        {
          "output_type": "execute_result",
          "data": {
            "text/plain": [
              "0.6161515453639083"
            ]
          },
          "metadata": {},
          "execution_count": 110
        }
      ],
      "source": [
        "# Define Recall score on validation set (True Positive/ True Positive + False Negative )\n",
        "recall_score(y_val_8, y_val_pred) "
      ]
    },
    {
      "cell_type": "code",
      "execution_count": 111,
      "metadata": {
        "colab": {
          "base_uri": "https://localhost:8080/"
        },
        "id": "gJCZozqRr2wr",
        "outputId": "4ad21ac1-696c-4382-a091-73b8fd792e04"
      },
      "outputs": [
        {
          "output_type": "execute_result",
          "data": {
            "text/plain": [
              "0.6785714285714286"
            ]
          },
          "metadata": {},
          "execution_count": 111
        }
      ],
      "source": [
        "# Define Recall score on test set \n",
        "recall_score(y_test_8, y_test_pred) "
      ]
    },
    {
      "cell_type": "code",
      "execution_count": 112,
      "metadata": {
        "colab": {
          "base_uri": "https://localhost:8080/"
        },
        "id": "WcqXjX2hr2ws",
        "outputId": "faebb883-ad7c-4b26-bff6-f94e1a85d96e"
      },
      "outputs": [
        {
          "output_type": "execute_result",
          "data": {
            "text/plain": [
              "0.6127090301003345"
            ]
          },
          "metadata": {},
          "execution_count": 112
        }
      ],
      "source": [
        "# Define f1 score on training set\n",
        "\n",
        "from sklearn.metrics import f1_score\n",
        "\n",
        "f1_score(y_train_8, y_train_pred) "
      ]
    },
    {
      "cell_type": "code",
      "execution_count": 113,
      "metadata": {
        "colab": {
          "base_uri": "https://localhost:8080/"
        },
        "id": "Q-EjHtf4r2ws",
        "outputId": "992f1c0a-c0d4-47e5-dbd7-f25681ef8b26"
      },
      "outputs": [
        {
          "output_type": "execute_result",
          "data": {
            "text/plain": [
              "0.6236125126135217"
            ]
          },
          "metadata": {},
          "execution_count": 113
        }
      ],
      "source": [
        "# Define f1 score on validation set\n",
        "f1_score(y_val_8, y_val_pred) "
      ]
    },
    {
      "cell_type": "code",
      "execution_count": 114,
      "metadata": {
        "colab": {
          "base_uri": "https://localhost:8080/"
        },
        "id": "77uJpjAsr2ws",
        "outputId": "84709378-35db-4943-e877-be80a737706f"
      },
      "outputs": [
        {
          "output_type": "execute_result",
          "data": {
            "text/plain": [
              "0.6406551059730251"
            ]
          },
          "metadata": {},
          "execution_count": 114
        }
      ],
      "source": [
        "# Define f1 score on test set\n",
        "f1_score(y_test_8, y_test_pred) "
      ]
    },
    {
      "cell_type": "code",
      "execution_count": 115,
      "metadata": {
        "colab": {
          "base_uri": "https://localhost:8080/"
        },
        "id": "dAYDwvhTr2wt",
        "outputId": "c8653e7d-9803-4a8f-878b-cb4da4c6532f"
      },
      "outputs": [
        {
          "output_type": "execute_result",
          "data": {
            "text/plain": [
              "array([-16949.00456757, -10340.29156281, -20734.75782378, ...,\n",
              "         2047.38034549,   2913.49008614,  -2877.76683446])"
            ]
          },
          "metadata": {},
          "execution_count": 115
        }
      ],
      "source": [
        "# Predict using cross validation\n",
        "y_scores = cross_val_predict(sgd_clf, X_train, y_train_8, cv=5,\n",
        "                             method=\"decision_function\")\n",
        "y_scores"
      ]
    },
    {
      "cell_type": "markdown",
      "source": [
        "#### Plotting "
      ],
      "metadata": {
        "id": "XPb-Mc_JJIlZ"
      }
    },
    {
      "cell_type": "code",
      "execution_count": 116,
      "metadata": {
        "colab": {
          "base_uri": "https://localhost:8080/"
        },
        "id": "tRPfwdipr2wt",
        "outputId": "896c9634-af57-43d7-83ef-35cbe031b8ab"
      },
      "outputs": [
        {
          "output_type": "execute_result",
          "data": {
            "text/plain": [
              "array([False, False, False, ...,  True,  True, False])"
            ]
          },
          "metadata": {},
          "execution_count": 116
        }
      ],
      "source": [
        "# Assume some threshold\n",
        "threshold = 1000\n",
        "y_some_digit_pred = (y_scores > threshold)\n",
        "y_some_digit_pred"
      ]
    },
    {
      "cell_type": "code",
      "execution_count": 117,
      "metadata": {
        "id": "zFfhUsZ7r2wu"
      },
      "outputs": [],
      "source": [
        "from sklearn.metrics import precision_recall_curve\n",
        "\n",
        "precisions, recalls, thresholds = precision_recall_curve(y_train_8, y_scores)"
      ]
    },
    {
      "cell_type": "code",
      "execution_count": 118,
      "metadata": {
        "colab": {
          "base_uri": "https://localhost:8080/",
          "height": 455
        },
        "id": "HJfiUTJxr2wu",
        "outputId": "5f125ec4-0420-4cc2-92e5-df76ac7213b2"
      },
      "outputs": [
        {
          "output_type": "display_data",
          "data": {
            "text/plain": [
              "<Figure size 640x480 with 1 Axes>"
            ],
            "image/png": "[encoded data removed]"
          },
          "metadata": {}
        }
      ],
      "source": [
        "def plot_precision_recall_vs_threshold(precisions, recalls, thresholds):\n",
        "    plt.plot(thresholds, precisions[:-1], \"b--\", label=\"Precision\")\n",
        "    plt.plot(thresholds, recalls[:-1], \"g-\", label=\"Recall\")\n",
        "    plt.legend(loc=\"center right\", fontsize=16) \n",
        "    plt.xlabel(\"Threshold\", fontsize=16) \n",
        "    [...] # highlight the threshold and add the legend, axis label, and grid\n",
        "\n",
        "plot_precision_recall_vs_threshold(precisions, recalls, thresholds)\n",
        "plt.show()"
      ]
    },
    {
      "cell_type": "code",
      "execution_count": 119,
      "metadata": {
        "colab": {
          "base_uri": "https://localhost:8080/"
        },
        "id": "q0XUv0gRr2wu",
        "outputId": "9cd56a93-8e4a-437f-f9be-338e5b89bd30"
      },
      "outputs": [
        {
          "output_type": "stream",
          "name": "stdout",
          "text": [
            "Threshold at 7094.544452957077 will have a precision equal or greater than 90%\n"
          ]
        }
      ],
      "source": [
        "# Define valus of thershold that has precison over 90%\n",
        "threshold_90_precision = thresholds[np.argmax(precisions >= 0.90)]\n",
        "print(\"Threshold at\",threshold_90_precision, \"will have a precision equal or greater than 90%\")"
      ]
    },
    {
      "cell_type": "code",
      "execution_count": 120,
      "metadata": {
        "colab": {
          "base_uri": "https://localhost:8080/"
        },
        "id": "vCfc34Yir2wv",
        "outputId": "7504237e-399b-4386-f27a-42cc6315ccf3"
      },
      "outputs": [
        {
          "output_type": "execute_result",
          "data": {
            "text/plain": [
              "array([False, False, False, ..., False, False, False])"
            ]
          },
          "metadata": {},
          "execution_count": 120
        }
      ],
      "source": [
        "y_train_pred_90 = (y_scores >= threshold_90_precision)\n",
        "y_train_pred_90"
      ]
    },
    {
      "cell_type": "code",
      "execution_count": 121,
      "metadata": {
        "colab": {
          "base_uri": "https://localhost:8080/",
          "height": 449
        },
        "id": "k6DUmNxWr2wv",
        "outputId": "f928a2f7-fdf0-4bea-976f-f248fb1e32bd"
      },
      "outputs": [
        {
          "output_type": "display_data",
          "data": {
            "text/plain": [
              "<Figure size 640x480 with 1 Axes>"
            ],
            "image/png": "[encoded data removed]"
          },
          "metadata": {}
        }
      ],
      "source": [
        "# Plot the False Positive Rat(FPR) against the True Positive Rate(TPR)\n",
        "from sklearn.metrics import roc_curve\n",
        "\n",
        "fpr, tpr, thresholds = roc_curve(y_train_8, y_scores)\n",
        "\n",
        "def plot_roc_curve(fpr, tpr, label=None):\n",
        "    plt.plot(fpr, tpr, linewidth=2, label=label)\n",
        "    plt.plot([0, 1], [0, 1], 'k--') # Dashed diagonal\n",
        "    [...] # Add axis labels and grid\n",
        "\n",
        "plot_roc_curve(fpr, tpr)\n",
        "plt.xlabel(\"False Positve Rate\")\n",
        "plt.ylabel(\"True Positive Rate(Recall)\")\n",
        "plt.show()"
      ]
    },
    {
      "cell_type": "code",
      "execution_count": 122,
      "metadata": {
        "colab": {
          "base_uri": "https://localhost:8080/"
        },
        "id": "ZuPZ5IGIr2wv",
        "outputId": "656f1483-2993-4d9e-ba39-09fc5d9c71eb"
      },
      "outputs": [
        {
          "output_type": "execute_result",
          "data": {
            "text/plain": [
              "0.9110286853855037"
            ]
          },
          "metadata": {},
          "execution_count": 122
        }
      ],
      "source": [
        "# Define score of Area Under the Receiver Operating Characteristic Curve (ROC AUC)\n",
        "from sklearn.metrics import roc_auc_score\n",
        "\n",
        "roc_auc_score(y_train_8, y_scores)"
      ]
    },
    {
      "cell_type": "markdown",
      "metadata": {
        "id": "EQ_VREklr2ww"
      },
      "source": [
        "## Train dataset using Random Forest Classifier"
      ]
    },
    {
      "cell_type": "code",
      "execution_count": 123,
      "metadata": {
        "colab": {
          "base_uri": "https://localhost:8080/"
        },
        "id": "STpMw4YXr2ww",
        "outputId": "6ee9a266-7277-4f47-e3a1-43bc50e0e4cb"
      },
      "outputs": [
        {
          "output_type": "execute_result",
          "data": {
            "text/plain": [
              "array([False])"
            ]
          },
          "metadata": {},
          "execution_count": 123
        }
      ],
      "source": [
        "# Train dataset using Random Forest Classifier\n",
        "from sklearn.ensemble import RandomForestClassifier\n",
        "\n",
        "forest_clf = RandomForestClassifier(random_state=42, max_depth=4)\n",
        "y_probas_forest = cross_val_predict(forest_clf, X_train, y_train_8, cv=5,\n",
        "                                    method=\"predict_proba\")\n",
        "forest_clf.fit(X_train, y_train_8) \n",
        "forest_clf.predict([some_digit])"
      ]
    },
    {
      "cell_type": "code",
      "execution_count": 124,
      "metadata": {
        "colab": {
          "base_uri": "https://localhost:8080/"
        },
        "id": "ZddIG9Tmr2ww",
        "outputId": "4ad60742-cbc8-457f-ffc4-966bc5366b28"
      },
      "outputs": [
        {
          "output_type": "execute_result",
          "data": {
            "text/plain": [
              "array([False, False, False, ..., False, False, False])"
            ]
          },
          "metadata": {},
          "execution_count": 124
        }
      ],
      "source": [
        "forest_clf.predict(X_val)"
      ]
    },
    {
      "cell_type": "code",
      "execution_count": 125,
      "metadata": {
        "colab": {
          "base_uri": "https://localhost:8080/"
        },
        "id": "V7tjcq6dr2wx",
        "outputId": "f3d06124-519b-4b5f-8e9f-a88e2864ac76"
      },
      "outputs": [
        {
          "output_type": "execute_result",
          "data": {
            "text/plain": [
              "array([False, False, False, ..., False, False, False])"
            ]
          },
          "metadata": {},
          "execution_count": 125
        }
      ],
      "source": [
        "forest_clf.predict(X_test)"
      ]
    },
    {
      "cell_type": "code",
      "execution_count": 126,
      "metadata": {
        "colab": {
          "base_uri": "https://localhost:8080/",
          "height": 449
        },
        "id": "758qrA5dr2wx",
        "outputId": "1a500492-dc43-4177-cf13-10c4575fb4a1"
      },
      "outputs": [
        {
          "output_type": "display_data",
          "data": {
            "text/plain": [
              "<Figure size 640x480 with 1 Axes>"
            ],
            "image/png": "[encoded data removed]"
          },
          "metadata": {}
        }
      ],
      "source": [
        "# Define score for positive class’s probability and plot ROC curve to compare SGD and Random Forest algorithms\n",
        "y_scores_forest = y_probas_forest[:, 1]   # score = proba of positive class\n",
        "fpr_forest, tpr_forest, thresholds_forest = roc_curve(y_train_8, y_scores_forest)\n",
        "\n",
        "plt.plot(fpr, tpr, \"b:\", label=\"SGD\")\n",
        "plot_roc_curve(fpr_forest, tpr_forest, \"Random Forest\")\n",
        "plt.legend(loc=\"lower right\")\n",
        "plt.xlabel(\"False Positve Rate\")\n",
        "\n",
        "plt.ylabel(\"True Positive Rate(Recall)\")\n",
        "plt.show()"
      ]
    },
    {
      "cell_type": "markdown",
      "metadata": {
        "id": "sXo4EhNyr2wx"
      },
      "source": [
        "The above graph shows that the Random Forest classifier is superior to the SGD classifier because its ROC curve is much closer to the top-left corner, and it has a greater AUC."
      ]
    },
    {
      "cell_type": "code",
      "execution_count": 127,
      "metadata": {
        "colab": {
          "base_uri": "https://localhost:8080/"
        },
        "id": "xp1ZS0usr2wy",
        "outputId": "35fc35f6-6400-4545-ff44-6f66acea6222"
      },
      "outputs": [
        {
          "output_type": "execute_result",
          "data": {
            "text/plain": [
              "0.9704768519486557"
            ]
          },
          "metadata": {},
          "execution_count": 127
        }
      ],
      "source": [
        "roc_auc_score(y_train_8, y_scores_forest) # ROC AUC score on Training set"
      ]
    },
    {
      "cell_type": "markdown",
      "metadata": {
        "id": "p0ieILf_r2wy"
      },
      "source": [
        "## Train dataset using Extra Tree Classifier"
      ]
    },
    {
      "cell_type": "code",
      "execution_count": 128,
      "metadata": {
        "id": "sKSO9ULYr2wy"
      },
      "outputs": [],
      "source": [
        "# Train dataset using Extra Trees Claddifier\n",
        "from sklearn.ensemble import ExtraTreesClassifier\n",
        "\n",
        "trees_clf = ExtraTreesClassifier(max_depth=4, random_state=42)\n",
        "y_probas_trees = cross_val_predict(trees_clf, X_train, y_train_8, cv=5)"
      ]
    },
    {
      "cell_type": "code",
      "execution_count": 129,
      "metadata": {
        "colab": {
          "base_uri": "https://localhost:8080/"
        },
        "id": "TTYysZfsr2wy",
        "outputId": "391f0755-c861-4f7b-c962-c59e1439d5b5"
      },
      "outputs": [
        {
          "output_type": "execute_result",
          "data": {
            "text/plain": [
              "array([False])"
            ]
          },
          "metadata": {},
          "execution_count": 129
        }
      ],
      "source": [
        "trees_clf.fit(X_train, y_train_8)\n",
        "trees_clf.predict([some_digit])"
      ]
    },
    {
      "cell_type": "code",
      "execution_count": 130,
      "metadata": {
        "colab": {
          "base_uri": "https://localhost:8080/"
        },
        "id": "sG413xDSr2wz",
        "outputId": "cd603dac-4f25-42e8-de8b-e007ca718399"
      },
      "outputs": [
        {
          "output_type": "execute_result",
          "data": {
            "text/plain": [
              "array([False, False, False, ..., False, False, False])"
            ]
          },
          "metadata": {},
          "execution_count": 130
        }
      ],
      "source": [
        "trees_clf.predict(X_val) # Predict using validation set"
      ]
    },
    {
      "cell_type": "code",
      "execution_count": 131,
      "metadata": {
        "colab": {
          "base_uri": "https://localhost:8080/"
        },
        "id": "azjVKgCMr2wz",
        "outputId": "626502e1-bca0-4f9e-8b32-42e958ba43e1"
      },
      "outputs": [
        {
          "output_type": "execute_result",
          "data": {
            "text/plain": [
              "array([False, False, False, ..., False,  True, False])"
            ]
          },
          "metadata": {},
          "execution_count": 131
        }
      ],
      "source": [
        "trees_clf.predict(X_test) # Predict using test set"
      ]
    },
    {
      "cell_type": "code",
      "execution_count": 132,
      "metadata": {
        "colab": {
          "base_uri": "https://localhost:8080/"
        },
        "id": "M0TPpr0dr2wz",
        "outputId": "61370616-d763-400b-f07c-934c9b39daf1"
      },
      "outputs": [
        {
          "output_type": "execute_result",
          "data": {
            "text/plain": [
              "array([0.9094, 0.9095, 0.911 , 0.9088, 0.9096])"
            ]
          },
          "metadata": {},
          "execution_count": 132
        }
      ],
      "source": [
        "# Evaluate using cross validation score\n",
        "n_scores = cross_val_score(trees_clf, X_train, y_train_8, cv=5, scoring=\"accuracy\")\n",
        "n_scores"
      ]
    },
    {
      "cell_type": "markdown",
      "metadata": {
        "id": "FBQM-6o8r2w0"
      },
      "source": [
        "## Train dataset using Support Vector Classifiers"
      ]
    },
    {
      "cell_type": "code",
      "execution_count": 133,
      "metadata": {
        "colab": {
          "base_uri": "https://localhost:8080/"
        },
        "id": "EEPldDGHr2w0",
        "outputId": "afdd86e7-abfa-4c96-de39-301bbd6620f5"
      },
      "outputs": [
        {
          "output_type": "execute_result",
          "data": {
            "text/plain": [
              "array([8], dtype=uint8)"
            ]
          },
          "metadata": {},
          "execution_count": 133
        }
      ],
      "source": [
        "# Train dataset using SVC\n",
        "from sklearn.svm import SVC\n",
        "svm_clf = SVC()\n",
        "svm_clf.fit(X_train, y_train) # y_train, not y_train_8\n",
        "svm_clf.predict([some_digit])"
      ]
    },
    {
      "cell_type": "code",
      "execution_count": 134,
      "metadata": {
        "colab": {
          "base_uri": "https://localhost:8080/"
        },
        "id": "t7cUBknWr2w0",
        "outputId": "4470d846-3aba-44ae-9e30-4b166ede0a83"
      },
      "outputs": [
        {
          "output_type": "execute_result",
          "data": {
            "text/plain": [
              "array([8, 4, 1, ..., 3, 2, 7], dtype=uint8)"
            ]
          },
          "metadata": {},
          "execution_count": 134
        }
      ],
      "source": [
        "svm_clf.predict(X_val) # predict using validation set"
      ]
    },
    {
      "cell_type": "code",
      "execution_count": 135,
      "metadata": {
        "colab": {
          "base_uri": "https://localhost:8080/"
        },
        "id": "a6O6n3ver2w0",
        "outputId": "4cde9be6-fb0d-4846-8fa9-4abc096923e2"
      },
      "outputs": [
        {
          "output_type": "execute_result",
          "data": {
            "text/plain": [
              "array([1, 5, 7, ..., 9, 8, 1], dtype=uint8)"
            ]
          },
          "metadata": {},
          "execution_count": 135
        }
      ],
      "source": [
        "svm_clf.predict(X_test) # predict using test set"
      ]
    },
    {
      "cell_type": "code",
      "execution_count": 136,
      "metadata": {
        "colab": {
          "base_uri": "https://localhost:8080/"
        },
        "id": "1S-_6H7er2w1",
        "outputId": "eeda99ee-b273-4905-d89f-10900c078961"
      },
      "outputs": [
        {
          "output_type": "execute_result",
          "data": {
            "text/plain": [
              "array([[ 0.70662785,  7.20547409,  3.81541583,  7.24121948,  2.77669191,\n",
              "         5.1585406 , -0.29430352,  2.71830767,  9.31462185,  6.20802523]])"
            ]
          },
          "metadata": {},
          "execution_count": 136
        }
      ],
      "source": [
        "some_digit_scores = svm_clf.decision_function([some_digit])\n",
        "some_digit_scores"
      ]
    },
    {
      "cell_type": "code",
      "execution_count": 137,
      "metadata": {
        "colab": {
          "base_uri": "https://localhost:8080/"
        },
        "id": "7GauT1WEr2w1",
        "outputId": "60178b11-8044-492b-9523-c2a3d241ab09"
      },
      "outputs": [
        {
          "output_type": "execute_result",
          "data": {
            "text/plain": [
              "8"
            ]
          },
          "metadata": {},
          "execution_count": 137
        }
      ],
      "source": [
        "np.argmax(some_digit_scores) # find the highest score"
      ]
    },
    {
      "cell_type": "code",
      "execution_count": 138,
      "metadata": {
        "colab": {
          "base_uri": "https://localhost:8080/"
        },
        "id": "lyd2yN_qr2w1",
        "outputId": "795e6313-3e79-4551-be43-2e758568769b"
      },
      "outputs": [
        {
          "output_type": "execute_result",
          "data": {
            "text/plain": [
              "array([0, 1, 2, 3, 4, 5, 6, 7, 8, 9], dtype=uint8)"
            ]
          },
          "metadata": {},
          "execution_count": 138
        }
      ],
      "source": [
        "svm_clf.classes_ "
      ]
    },
    {
      "cell_type": "code",
      "execution_count": 139,
      "metadata": {
        "colab": {
          "base_uri": "https://localhost:8080/"
        },
        "id": "rmEKdGy-r2w2",
        "outputId": "ce0854dd-560f-43b9-8e81-28339048c304"
      },
      "outputs": [
        {
          "output_type": "execute_result",
          "data": {
            "text/plain": [
              "8"
            ]
          },
          "metadata": {},
          "execution_count": 139
        }
      ],
      "source": [
        "svm_clf.classes_[8]"
      ]
    },
    {
      "cell_type": "markdown",
      "metadata": {
        "id": "eK4o3OGbr2w2"
      },
      "source": [
        "### Hard Voting"
      ]
    },
    {
      "cell_type": "code",
      "execution_count": 140,
      "metadata": {
        "colab": {
          "base_uri": "https://localhost:8080/",
          "height": 108
        },
        "id": "QBtdh6i9r2w2",
        "outputId": "3cb13e48-9752-49b5-f70f-d5b9a669903d"
      },
      "outputs": [
        {
          "output_type": "execute_result",
          "data": {
            "text/plain": [
              "VotingClassifier(estimators=[('sgd', SGDClassifier(random_state=42)),\n",
              "                             ('rf',\n",
              "                              RandomForestClassifier(max_depth=4,\n",
              "                                                     random_state=42)),\n",
              "                             ('et',\n",
              "                              ExtraTreesClassifier(max_depth=4,\n",
              "                                                   random_state=42)),\n",
              "                             ('svc', SVC())])"
            ],
            "text/html": [
              "<style>#sk-container-id-2 {color: black;background-color: white;}#sk-container-id-2 pre{padding: 0;}#sk-container-id-2 div.sk-toggleable {background-color: white;}#sk-container-id-2 label.sk-toggleable__label {cursor: pointer;display: block;width: 100%;margin-bottom: 0;padding: 0.3em;box-sizing: border-box;text-align: center;}#sk-container-id-2 label.sk-toggleable__label-arrow:before {content: \"▸\";float: left;margin-right: 0.25em;color: #696969;}#sk-container-id-2 label.sk-toggleable__label-arrow:hover:before {color: black;}#sk-container-id-2 div.sk-estimator:hover label.sk-toggleable__label-arrow:before {color: black;}#sk-container-id-2 div.sk-toggleable__content {max-height: 0;max-width: 0;overflow: hidden;text-align: left;background-color: #f0f8ff;}#sk-container-id-2 div.sk-toggleable__content pre {margin: 0.2em;color: black;border-radius: 0.25em;background-color: #f0f8ff;}#sk-container-id-2 input.sk-toggleable__control:checked~div.sk-toggleable__content {max-height: 200px;max-width: 100%;overflow: auto;}#sk-container-id-2 input.sk-toggleable__control:checked~label.sk-toggleable__label-arrow:before {content: \"▾\";}#sk-container-id-2 div.sk-estimator input.sk-toggleable__control:checked~label.sk-toggleable__label {background-color: #d4ebff;}#sk-container-id-2 div.sk-label input.sk-toggleable__control:checked~label.sk-toggleable__label {background-color: #d4ebff;}#sk-container-id-2 input.sk-hidden--visually {border: 0;clip: rect(1px 1px 1px 1px);clip: rect(1px, 1px, 1px, 1px);height: 1px;margin: -1px;overflow: hidden;padding: 0;position: absolute;width: 1px;}#sk-container-id-2 div.sk-estimator {font-family: monospace;background-color: #f0f8ff;border: 1px dotted black;border-radius: 0.25em;box-sizing: border-box;margin-bottom: 0.5em;}#sk-container-id-2 div.sk-estimator:hover {background-color: #d4ebff;}#sk-container-id-2 div.sk-parallel-item::after {content: \"\";width: 100%;border-bottom: 1px solid gray;flex-grow: 1;}#sk-container-id-2 div.sk-label:hover label.sk-toggleable__label {background-color: #d4ebff;}#sk-container-id-2 div.sk-serial::before {content: \"\";position: absolute;border-left: 1px solid gray;box-sizing: border-box;top: 0;bottom: 0;left: 50%;z-index: 0;}#sk-container-id-2 div.sk-serial {display: flex;flex-direction: column;align-items: center;background-color: white;padding-right: 0.2em;padding-left: 0.2em;position: relative;}#sk-container-id-2 div.sk-item {position: relative;z-index: 1;}#sk-container-id-2 div.sk-parallel {display: flex;align-items: stretch;justify-content: center;background-color: white;position: relative;}#sk-container-id-2 div.sk-item::before, #sk-container-id-2 div.sk-parallel-item::before {content: \"\";position: absolute;border-left: 1px solid gray;box-sizing: border-box;top: 0;bottom: 0;left: 50%;z-index: -1;}#sk-container-id-2 div.sk-parallel-item {display: flex;flex-direction: column;z-index: 1;position: relative;background-color: white;}#sk-container-id-2 div.sk-parallel-item:first-child::after {align-self: flex-end;width: 50%;}#sk-container-id-2 div.sk-parallel-item:last-child::after {align-self: flex-start;width: 50%;}#sk-container-id-2 div.sk-parallel-item:only-child::after {width: 0;}#sk-container-id-2 div.sk-dashed-wrapped {border: 1px dashed gray;margin: 0 0.4em 0.5em 0.4em;box-sizing: border-box;padding-bottom: 0.4em;background-color: white;}#sk-container-id-2 div.sk-label label {font-family: monospace;font-weight: bold;display: inline-block;line-height: 1.2em;}#sk-container-id-2 div.sk-label-container {text-align: center;}#sk-container-id-2 div.sk-container {/* jupyter's `normalize.less` sets `[hidden] { display: none; }` but bootstrap.min.css set `[hidden] { display: none !important; }` so we also need the `!important` here to be able to override the default hidden behavior on the sphinx rendered scikit-learn.org. See: https://github.com/scikit-learn/scikit-learn/issues/21755 */display: inline-block !important;position: relative;}#sk-container-id-2 div.sk-text-repr-fallback {display: none;}</style><div id=\"sk-container-id-2\" class=\"sk-top-container\"><div class=\"sk-text-repr-fallback\"><pre>VotingClassifier(estimators=[(&#x27;sgd&#x27;, SGDClassifier(random_state=42)),\n",
              "                             (&#x27;rf&#x27;,\n",
              "                              RandomForestClassifier(max_depth=4,\n",
              "                                                     random_state=42)),\n",
              "                             (&#x27;et&#x27;,\n",
              "                              ExtraTreesClassifier(max_depth=4,\n",
              "                                                   random_state=42)),\n",
              "                             (&#x27;svc&#x27;, SVC())])</pre><b>In a Jupyter environment, please rerun this cell to show the HTML representation or trust the notebook. <br />On GitHub, the HTML representation is unable to render, please try loading this page with nbviewer.org.</b></div><div class=\"sk-container\" hidden><div class=\"sk-item sk-dashed-wrapped\"><div class=\"sk-label-container\"><div class=\"sk-label sk-toggleable\"><input class=\"sk-toggleable__control sk-hidden--visually\" id=\"sk-estimator-id-6\" type=\"checkbox\" ><label for=\"sk-estimator-id-6\" class=\"sk-toggleable__label sk-toggleable__label-arrow\">VotingClassifier</label><div class=\"sk-toggleable__content\"><pre>VotingClassifier(estimators=[(&#x27;sgd&#x27;, SGDClassifier(random_state=42)),\n",
              "                             (&#x27;rf&#x27;,\n",
              "                              RandomForestClassifier(max_depth=4,\n",
              "                                                     random_state=42)),\n",
              "                             (&#x27;et&#x27;,\n",
              "                              ExtraTreesClassifier(max_depth=4,\n",
              "                                                   random_state=42)),\n",
              "                             (&#x27;svc&#x27;, SVC())])</pre></div></div></div><div class=\"sk-parallel\"><div class=\"sk-parallel-item\"><div class=\"sk-item\"><div class=\"sk-label-container\"><div class=\"sk-label sk-toggleable\"><label>sgd</label></div></div><div class=\"sk-serial\"><div class=\"sk-item\"><div class=\"sk-estimator sk-toggleable\"><input class=\"sk-toggleable__control sk-hidden--visually\" id=\"sk-estimator-id-7\" type=\"checkbox\" ><label for=\"sk-estimator-id-7\" class=\"sk-toggleable__label sk-toggleable__label-arrow\">SGDClassifier</label><div class=\"sk-toggleable__content\"><pre>SGDClassifier(random_state=42)</pre></div></div></div></div></div></div><div class=\"sk-parallel-item\"><div class=\"sk-item\"><div class=\"sk-label-container\"><div class=\"sk-label sk-toggleable\"><label>rf</label></div></div><div class=\"sk-serial\"><div class=\"sk-item\"><div class=\"sk-estimator sk-toggleable\"><input class=\"sk-toggleable__control sk-hidden--visually\" id=\"sk-estimator-id-8\" type=\"checkbox\" ><label for=\"sk-estimator-id-8\" class=\"sk-toggleable__label sk-toggleable__label-arrow\">RandomForestClassifier</label><div class=\"sk-toggleable__content\"><pre>RandomForestClassifier(max_depth=4, random_state=42)</pre></div></div></div></div></div></div><div class=\"sk-parallel-item\"><div class=\"sk-item\"><div class=\"sk-label-container\"><div class=\"sk-label sk-toggleable\"><label>et</label></div></div><div class=\"sk-serial\"><div class=\"sk-item\"><div class=\"sk-estimator sk-toggleable\"><input class=\"sk-toggleable__control sk-hidden--visually\" id=\"sk-estimator-id-9\" type=\"checkbox\" ><label for=\"sk-estimator-id-9\" class=\"sk-toggleable__label sk-toggleable__label-arrow\">ExtraTreesClassifier</label><div class=\"sk-toggleable__content\"><pre>ExtraTreesClassifier(max_depth=4, random_state=42)</pre></div></div></div></div></div></div><div class=\"sk-parallel-item\"><div class=\"sk-item\"><div class=\"sk-label-container\"><div class=\"sk-label sk-toggleable\"><label>svc</label></div></div><div class=\"sk-serial\"><div class=\"sk-item\"><div class=\"sk-estimator sk-toggleable\"><input class=\"sk-toggleable__control sk-hidden--visually\" id=\"sk-estimator-id-10\" type=\"checkbox\" ><label for=\"sk-estimator-id-10\" class=\"sk-toggleable__label sk-toggleable__label-arrow\">SVC</label><div class=\"sk-toggleable__content\"><pre>SVC()</pre></div></div></div></div></div></div></div></div></div></div>"
            ]
          },
          "metadata": {},
          "execution_count": 140
        }
      ],
      "source": [
        "# Combine the performances of multiple models and select the prediction with the highest number of votes.\n",
        "from sklearn.ensemble import VotingClassifier\n",
        "\n",
        "voting_clf = VotingClassifier(\n",
        "    estimators=[('sgd', sgd_clf), ('rf', forest_clf), ('et', trees_clf), ('svc', svm_clf)],\n",
        "    voting='hard')\n",
        "voting_clf.fit(X_train, y_train)\n",
        "voting_clf"
      ]
    },
    {
      "cell_type": "code",
      "execution_count": 141,
      "metadata": {
        "scrolled": true,
        "colab": {
          "base_uri": "https://localhost:8080/"
        },
        "id": "Xcdgy-3Zr2w2",
        "outputId": "a9e7a36d-48ff-429d-fe9e-b1ba0b35940e"
      },
      "outputs": [
        {
          "output_type": "stream",
          "name": "stdout",
          "text": [
            "Accuracy score for validation set on SGDClassifier is 0.8673\n",
            "Accuracy score for test set on SGDClassifier is 0.8743\n",
            "Accuracy score for validation set on RandomForestClassifier is 0.82\n",
            "Accuracy score for test set on RandomForestClassifier is 0.8294\n",
            "Accuracy score for validation set on ExtraTreesClassifier is 0.7902\n",
            "Accuracy score for test set on ExtraTreesClassifier is 0.7906\n",
            "Accuracy score for validation set on SVC is 0.979\n",
            "Accuracy score for test set on SVC is 0.9797\n",
            "Accuracy score for validation set on VotingClassifier is 0.88\n",
            "Accuracy score for test set on VotingClassifier is 0.8864\n"
          ]
        }
      ],
      "source": [
        "# Get accuracy score from all algorithms on validation set and test set\n",
        "from sklearn.metrics import accuracy_score\n",
        "\n",
        "for clf in (sgd_clf, forest_clf, trees_clf, svm_clf, voting_clf):\n",
        "    clf.fit(X_train, y_train)\n",
        "    y_pred_val = clf.predict(X_val)\n",
        "    y_pred_test = clf.predict(X_test)\n",
        "    print(\"Accuracy score for validation set on\",clf.__class__.__name__,\"is\",accuracy_score(y_val, y_pred_val))\n",
        "    print(\"Accuracy score for test set on\",clf.__class__.__name__,\"is\",accuracy_score(y_test, y_pred_test))"
      ]
    },
    {
      "cell_type": "markdown",
      "metadata": {
        "id": "oPqj6hVbr2w3"
      },
      "source": [
        "Based on the result of the hard voting estimation between \n",
        "1. Stochastic Gradient Descent (SGD) classifier, \n",
        "2. Random Forest Classifier, \n",
        "3. Extra Trees Classifier, and \n",
        "4. Support Vector Classifier, \n",
        "\n",
        "the highest score for validation set is 0.9787 and for test set is 0.98 using Support Vector Classifier Algorithm."
      ]
    },
    {
      "cell_type": "markdown",
      "metadata": {
        "id": "t5zTl5CGr2w3"
      },
      "source": [
        "### What I learn from this assigment"
      ]
    },
    {
      "cell_type": "markdown",
      "metadata": {
        "id": "X3GvTLNUr2w3"
      },
      "source": [
        "* I learn different ensemble algorithms such as random forest classifier and extra tree classifer may be more efficient at improving overall accuracy for the same increase in compute, storage, or communication resources.\n",
        "\n",
        "* I learning that validation set is a separate dataset that can be used to validate the model performance during training and help tune the model's hyperparameters and configurations accordingly.\n",
        "\n",
        "* Hard voting involves summing the predictions for each class label and predicting the class label with the most votes. Soft voting involves summing the predicted probabilities (or probability-like scores) for each class label and predicting the class label with the largest probability.\n",
        "\n",
        "* Time and resources used to find a solution are considered when selecting an algorithm.\n",
        "\n",
        "* MNIST is a collection of handwritten digits ranging from the number 0 to 9. It is a standard dataset used for classification problem in computer vision and deep learning."
      ]
    }
  ],
  "metadata": {
    "kernelspec": {
      "display_name": "Python 3",
      "language": "python",
      "name": "python3"
    },
    "language_info": {
      "codemirror_mode": {
        "name": "ipython",
        "version": 3
      },
      "file_extension": ".py",
      "mimetype": "text/x-python",
      "name": "python",
      "nbconvert_exporter": "python",
      "pygments_lexer": "ipython3",
      "version": "3.8.3"
    },
    "colab": {
      "provenance": [],
      "include_colab_link": true
    }
  },
  "nbformat": 4,
  "nbformat_minor": 0
}